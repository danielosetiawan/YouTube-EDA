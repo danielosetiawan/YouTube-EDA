{
 "cells": [
  {
   "cell_type": "code",
   "execution_count": 1,
   "id": "7664882a",
   "metadata": {},
   "outputs": [],
   "source": [
    "import re\n",
    "import pandas as pd\n",
    "import numpy as np\n",
    "import seaborn as sns\n",
    "from matplotlib import pyplot as plt\n",
    "from plotly.graph_objs import Figure, Histogram, Layout"
   ]
  },
  {
   "cell_type": "code",
   "execution_count": 173,
   "id": "3645d8a9",
   "metadata": {},
   "outputs": [],
   "source": [
    "pd.set_option('display.max_columns', 50)"
   ]
  },
  {
   "cell_type": "code",
   "execution_count": 196,
   "id": "3d7158a1",
   "metadata": {
    "scrolled": false
   },
   "outputs": [],
   "source": [
    "countries = ['US', 'DE', 'CA', 'FR', 'GB', 'IN', 'JP', 'KR', 'MX', 'RU']\n",
    "dframes = [code.lower()+'_df' for code in countries]\n",
    "\n",
    "cat_ids = pd.read_csv('yt category list.csv', delimiter=' - ', engine='python')\n",
    "for code, df in zip(countries, dframes):\n",
    "    globals()[df] = pd.read_csv(f'{code}videos.csv', parse_dates=['trending_date', 'publish_time'], \\\n",
    "                                encoding_errors='ignore').merge(cat_ids, on='category_id', how='inner')\\\n",
    "                                .drop(['category_id', 'thumbnail_link'], axis=1)"
   ]
  },
  {
   "cell_type": "code",
   "execution_count": 215,
   "id": "378427d2",
   "metadata": {},
   "outputs": [
    {
     "data": {
      "text/html": [
       "<div>\n",
       "<style scoped>\n",
       "    .dataframe tbody tr th:only-of-type {\n",
       "        vertical-align: middle;\n",
       "    }\n",
       "\n",
       "    .dataframe tbody tr th {\n",
       "        vertical-align: top;\n",
       "    }\n",
       "\n",
       "    .dataframe thead th {\n",
       "        text-align: right;\n",
       "    }\n",
       "</style>\n",
       "<table border=\"1\" class=\"dataframe\">\n",
       "  <thead>\n",
       "    <tr style=\"text-align: right;\">\n",
       "      <th></th>\n",
       "      <th>video_id</th>\n",
       "      <th>trending_date</th>\n",
       "      <th>title</th>\n",
       "      <th>channel_title</th>\n",
       "      <th>publish_time</th>\n",
       "      <th>tags</th>\n",
       "      <th>views</th>\n",
       "      <th>likes</th>\n",
       "      <th>dislikes</th>\n",
       "      <th>comment_count</th>\n",
       "      <th>description</th>\n",
       "      <th>category</th>\n",
       "      <th>trending_delta</th>\n",
       "    </tr>\n",
       "  </thead>\n",
       "  <tbody>\n",
       "    <tr>\n",
       "      <th>0</th>\n",
       "      <td>2kyS6SvSYSE</td>\n",
       "      <td>2017-11-14</td>\n",
       "      <td>WE WANT TO TALK ABOUT OUR MARRIAGE</td>\n",
       "      <td>CaseyNeistat</td>\n",
       "      <td>2017-11-13 17:13:01+00:00</td>\n",
       "      <td>SHANtell martin</td>\n",
       "      <td>748374</td>\n",
       "      <td>57527</td>\n",
       "      <td>2966</td>\n",
       "      <td>15954</td>\n",
       "      <td>SHANTELL'S CHANNEL - https://www.youtube.com/s...</td>\n",
       "      <td>People &amp; Blogs</td>\n",
       "      <td>0 days 06:46:59</td>\n",
       "    </tr>\n",
       "    <tr>\n",
       "      <th>1</th>\n",
       "      <td>0mlNzVSJrT0</td>\n",
       "      <td>2017-11-14</td>\n",
       "      <td>Me-O Cats Commercial</td>\n",
       "      <td>Nobrand</td>\n",
       "      <td>2017-04-21 06:47:32+00:00</td>\n",
       "      <td>cute|\"cats\"|\"thai\"|\"eggs\"</td>\n",
       "      <td>98966</td>\n",
       "      <td>2486</td>\n",
       "      <td>184</td>\n",
       "      <td>532</td>\n",
       "      <td>Kittens come out of the eggs in a Thai commerc...</td>\n",
       "      <td>People &amp; Blogs</td>\n",
       "      <td>206 days 17:12:28</td>\n",
       "    </tr>\n",
       "    <tr>\n",
       "      <th>2</th>\n",
       "      <td>STI2fI7sKMo</td>\n",
       "      <td>2017-11-14</td>\n",
       "      <td>AFFAIRS, EX BOYFRIENDS, $18MILLION NET WORTH -...</td>\n",
       "      <td>Shawn Johnson East</td>\n",
       "      <td>2017-11-11 15:00:03+00:00</td>\n",
       "      <td>shawn johnson|\"andrew east\"|\"shawn east\"|\"shaw...</td>\n",
       "      <td>321053</td>\n",
       "      <td>4451</td>\n",
       "      <td>1772</td>\n",
       "      <td>895</td>\n",
       "      <td>Subscribe for weekly videos ▶ http://bit.ly/sj...</td>\n",
       "      <td>People &amp; Blogs</td>\n",
       "      <td>2 days 08:59:57</td>\n",
       "    </tr>\n",
       "  </tbody>\n",
       "</table>\n",
       "</div>"
      ],
      "text/plain": [
       "      video_id trending_date  \\\n",
       "0  2kyS6SvSYSE    2017-11-14   \n",
       "1  0mlNzVSJrT0    2017-11-14   \n",
       "2  STI2fI7sKMo    2017-11-14   \n",
       "\n",
       "                                               title       channel_title  \\\n",
       "0                 WE WANT TO TALK ABOUT OUR MARRIAGE        CaseyNeistat   \n",
       "1                               Me-O Cats Commercial             Nobrand   \n",
       "2  AFFAIRS, EX BOYFRIENDS, $18MILLION NET WORTH -...  Shawn Johnson East   \n",
       "\n",
       "               publish_time  \\\n",
       "0 2017-11-13 17:13:01+00:00   \n",
       "1 2017-04-21 06:47:32+00:00   \n",
       "2 2017-11-11 15:00:03+00:00   \n",
       "\n",
       "                                                tags   views  likes  dislikes  \\\n",
       "0                                    SHANtell martin  748374  57527      2966   \n",
       "1                          cute|\"cats\"|\"thai\"|\"eggs\"   98966   2486       184   \n",
       "2  shawn johnson|\"andrew east\"|\"shawn east\"|\"shaw...  321053   4451      1772   \n",
       "\n",
       "   comment_count                                        description  \\\n",
       "0          15954  SHANTELL'S CHANNEL - https://www.youtube.com/s...   \n",
       "1            532  Kittens come out of the eggs in a Thai commerc...   \n",
       "2            895  Subscribe for weekly videos ▶ http://bit.ly/sj...   \n",
       "\n",
       "         category    trending_delta  \n",
       "0  People & Blogs   0 days 06:46:59  \n",
       "1  People & Blogs 206 days 17:12:28  \n",
       "2  People & Blogs   2 days 08:59:57  "
      ]
     },
     "execution_count": 215,
     "metadata": {},
     "output_type": "execute_result"
    }
   ],
   "source": [
    "# we now have a dataframe for each of the countries\n",
    "# but we want to start by analyzing only one dataframe first\n",
    "# lets start with the US\n",
    "\n",
    "df = us_df\n",
    "df.head(3)"
   ]
  },
  {
   "cell_type": "code",
   "execution_count": 198,
   "id": "314f9009",
   "metadata": {},
   "outputs": [
    {
     "data": {
      "text/html": [
       "<div>\n",
       "<style scoped>\n",
       "    .dataframe tbody tr th:only-of-type {\n",
       "        vertical-align: middle;\n",
       "    }\n",
       "\n",
       "    .dataframe tbody tr th {\n",
       "        vertical-align: top;\n",
       "    }\n",
       "\n",
       "    .dataframe thead th {\n",
       "        text-align: right;\n",
       "    }\n",
       "</style>\n",
       "<table border=\"1\" class=\"dataframe\">\n",
       "  <thead>\n",
       "    <tr style=\"text-align: right;\">\n",
       "      <th></th>\n",
       "      <th>video_id</th>\n",
       "      <th>trending_date</th>\n",
       "      <th>title</th>\n",
       "      <th>channel_title</th>\n",
       "      <th>publish_time</th>\n",
       "      <th>tags</th>\n",
       "      <th>views</th>\n",
       "      <th>likes</th>\n",
       "      <th>dislikes</th>\n",
       "      <th>comment_count</th>\n",
       "      <th>description</th>\n",
       "      <th>category</th>\n",
       "    </tr>\n",
       "  </thead>\n",
       "  <tbody>\n",
       "    <tr>\n",
       "      <th>0</th>\n",
       "      <td>2kyS6SvSYSE</td>\n",
       "      <td>17.14.11</td>\n",
       "      <td>WE WANT TO TALK ABOUT OUR MARRIAGE</td>\n",
       "      <td>CaseyNeistat</td>\n",
       "      <td>2017-11-13 17:13:01+00:00</td>\n",
       "      <td>SHANtell martin</td>\n",
       "      <td>748374</td>\n",
       "      <td>57527</td>\n",
       "      <td>2966</td>\n",
       "      <td>15954</td>\n",
       "      <td>SHANTELL'S CHANNEL - https://www.youtube.com/s...</td>\n",
       "      <td>People &amp; Blogs</td>\n",
       "    </tr>\n",
       "    <tr>\n",
       "      <th>1</th>\n",
       "      <td>0mlNzVSJrT0</td>\n",
       "      <td>17.14.11</td>\n",
       "      <td>Me-O Cats Commercial</td>\n",
       "      <td>Nobrand</td>\n",
       "      <td>2017-04-21 06:47:32+00:00</td>\n",
       "      <td>cute|\"cats\"|\"thai\"|\"eggs\"</td>\n",
       "      <td>98966</td>\n",
       "      <td>2486</td>\n",
       "      <td>184</td>\n",
       "      <td>532</td>\n",
       "      <td>Kittens come out of the eggs in a Thai commerc...</td>\n",
       "      <td>People &amp; Blogs</td>\n",
       "    </tr>\n",
       "    <tr>\n",
       "      <th>2</th>\n",
       "      <td>STI2fI7sKMo</td>\n",
       "      <td>17.14.11</td>\n",
       "      <td>AFFAIRS, EX BOYFRIENDS, $18MILLION NET WORTH -...</td>\n",
       "      <td>Shawn Johnson East</td>\n",
       "      <td>2017-11-11 15:00:03+00:00</td>\n",
       "      <td>shawn johnson|\"andrew east\"|\"shawn east\"|\"shaw...</td>\n",
       "      <td>321053</td>\n",
       "      <td>4451</td>\n",
       "      <td>1772</td>\n",
       "      <td>895</td>\n",
       "      <td>Subscribe for weekly videos ▶ http://bit.ly/sj...</td>\n",
       "      <td>People &amp; Blogs</td>\n",
       "    </tr>\n",
       "  </tbody>\n",
       "</table>\n",
       "</div>"
      ],
      "text/plain": [
       "      video_id trending_date  \\\n",
       "0  2kyS6SvSYSE      17.14.11   \n",
       "1  0mlNzVSJrT0      17.14.11   \n",
       "2  STI2fI7sKMo      17.14.11   \n",
       "\n",
       "                                               title       channel_title  \\\n",
       "0                 WE WANT TO TALK ABOUT OUR MARRIAGE        CaseyNeistat   \n",
       "1                               Me-O Cats Commercial             Nobrand   \n",
       "2  AFFAIRS, EX BOYFRIENDS, $18MILLION NET WORTH -...  Shawn Johnson East   \n",
       "\n",
       "               publish_time  \\\n",
       "0 2017-11-13 17:13:01+00:00   \n",
       "1 2017-04-21 06:47:32+00:00   \n",
       "2 2017-11-11 15:00:03+00:00   \n",
       "\n",
       "                                                tags   views  likes  dislikes  \\\n",
       "0                                    SHANtell martin  748374  57527      2966   \n",
       "1                          cute|\"cats\"|\"thai\"|\"eggs\"   98966   2486       184   \n",
       "2  shawn johnson|\"andrew east\"|\"shawn east\"|\"shaw...  321053   4451      1772   \n",
       "\n",
       "   comment_count                                        description  \\\n",
       "0          15954  SHANTELL'S CHANNEL - https://www.youtube.com/s...   \n",
       "1            532  Kittens come out of the eggs in a Thai commerc...   \n",
       "2            895  Subscribe for weekly videos ▶ http://bit.ly/sj...   \n",
       "\n",
       "         category  \n",
       "0  People & Blogs  \n",
       "1  People & Blogs  \n",
       "2  People & Blogs  "
      ]
     },
     "execution_count": 198,
     "metadata": {},
     "output_type": "execute_result"
    }
   ],
   "source": [
    "# lets first remove some bias\n",
    "# this will be videos with comments or ratings disabled\n",
    "# this will also be videos with errors or has been removed\n",
    "\n",
    "df = df[~(df['comments_disabled'] | \\\n",
    "                df['ratings_disabled'] | \\\n",
    "                df['video_error_or_removed']) == True]\n",
    "\n",
    "df = df.drop(['comments_disabled', 'ratings_disabled', 'video_error_or_removed'], axis=1)\n",
    "df.head(3)"
   ]
  },
  {
   "cell_type": "code",
   "execution_count": 212,
   "id": "e57aba1a",
   "metadata": {},
   "outputs": [
    {
     "data": {
      "text/html": [
       "<div>\n",
       "<style scoped>\n",
       "    .dataframe tbody tr th:only-of-type {\n",
       "        vertical-align: middle;\n",
       "    }\n",
       "\n",
       "    .dataframe tbody tr th {\n",
       "        vertical-align: top;\n",
       "    }\n",
       "\n",
       "    .dataframe thead th {\n",
       "        text-align: right;\n",
       "    }\n",
       "</style>\n",
       "<table border=\"1\" class=\"dataframe\">\n",
       "  <thead>\n",
       "    <tr style=\"text-align: right;\">\n",
       "      <th></th>\n",
       "      <th>video_id</th>\n",
       "      <th>trending_date</th>\n",
       "      <th>title</th>\n",
       "      <th>channel_title</th>\n",
       "      <th>publish_time</th>\n",
       "      <th>tags</th>\n",
       "      <th>views</th>\n",
       "      <th>likes</th>\n",
       "      <th>dislikes</th>\n",
       "      <th>comment_count</th>\n",
       "      <th>description</th>\n",
       "      <th>category</th>\n",
       "      <th>trending_delta</th>\n",
       "    </tr>\n",
       "  </thead>\n",
       "  <tbody>\n",
       "    <tr>\n",
       "      <th>0</th>\n",
       "      <td>2kyS6SvSYSE</td>\n",
       "      <td>2017-11-14</td>\n",
       "      <td>WE WANT TO TALK ABOUT OUR MARRIAGE</td>\n",
       "      <td>CaseyNeistat</td>\n",
       "      <td>2017-11-13 17:13:01+00:00</td>\n",
       "      <td>SHANtell martin</td>\n",
       "      <td>748374</td>\n",
       "      <td>57527</td>\n",
       "      <td>2966</td>\n",
       "      <td>15954</td>\n",
       "      <td>SHANTELL'S CHANNEL - https://www.youtube.com/s...</td>\n",
       "      <td>People &amp; Blogs</td>\n",
       "      <td>0 days 06:46:59</td>\n",
       "    </tr>\n",
       "    <tr>\n",
       "      <th>1</th>\n",
       "      <td>0mlNzVSJrT0</td>\n",
       "      <td>2017-11-14</td>\n",
       "      <td>Me-O Cats Commercial</td>\n",
       "      <td>Nobrand</td>\n",
       "      <td>2017-04-21 06:47:32+00:00</td>\n",
       "      <td>cute|\"cats\"|\"thai\"|\"eggs\"</td>\n",
       "      <td>98966</td>\n",
       "      <td>2486</td>\n",
       "      <td>184</td>\n",
       "      <td>532</td>\n",
       "      <td>Kittens come out of the eggs in a Thai commerc...</td>\n",
       "      <td>People &amp; Blogs</td>\n",
       "      <td>206 days 17:12:28</td>\n",
       "    </tr>\n",
       "    <tr>\n",
       "      <th>2</th>\n",
       "      <td>STI2fI7sKMo</td>\n",
       "      <td>2017-11-14</td>\n",
       "      <td>AFFAIRS, EX BOYFRIENDS, $18MILLION NET WORTH -...</td>\n",
       "      <td>Shawn Johnson East</td>\n",
       "      <td>2017-11-11 15:00:03+00:00</td>\n",
       "      <td>shawn johnson|\"andrew east\"|\"shawn east\"|\"shaw...</td>\n",
       "      <td>321053</td>\n",
       "      <td>4451</td>\n",
       "      <td>1772</td>\n",
       "      <td>895</td>\n",
       "      <td>Subscribe for weekly videos ▶ http://bit.ly/sj...</td>\n",
       "      <td>People &amp; Blogs</td>\n",
       "      <td>2 days 08:59:57</td>\n",
       "    </tr>\n",
       "  </tbody>\n",
       "</table>\n",
       "</div>"
      ],
      "text/plain": [
       "      video_id trending_date  \\\n",
       "0  2kyS6SvSYSE    2017-11-14   \n",
       "1  0mlNzVSJrT0    2017-11-14   \n",
       "2  STI2fI7sKMo    2017-11-14   \n",
       "\n",
       "                                               title       channel_title  \\\n",
       "0                 WE WANT TO TALK ABOUT OUR MARRIAGE        CaseyNeistat   \n",
       "1                               Me-O Cats Commercial             Nobrand   \n",
       "2  AFFAIRS, EX BOYFRIENDS, $18MILLION NET WORTH -...  Shawn Johnson East   \n",
       "\n",
       "               publish_time  \\\n",
       "0 2017-11-13 17:13:01+00:00   \n",
       "1 2017-04-21 06:47:32+00:00   \n",
       "2 2017-11-11 15:00:03+00:00   \n",
       "\n",
       "                                                tags   views  likes  dislikes  \\\n",
       "0                                    SHANtell martin  748374  57527      2966   \n",
       "1                          cute|\"cats\"|\"thai\"|\"eggs\"   98966   2486       184   \n",
       "2  shawn johnson|\"andrew east\"|\"shawn east\"|\"shaw...  321053   4451      1772   \n",
       "\n",
       "   comment_count                                        description  \\\n",
       "0          15954  SHANTELL'S CHANNEL - https://www.youtube.com/s...   \n",
       "1            532  Kittens come out of the eggs in a Thai commerc...   \n",
       "2            895  Subscribe for weekly videos ▶ http://bit.ly/sj...   \n",
       "\n",
       "         category    trending_delta  \n",
       "0  People & Blogs   0 days 06:46:59  \n",
       "1  People & Blogs 206 days 17:12:28  \n",
       "2  People & Blogs   2 days 08:59:57  "
      ]
     },
     "execution_count": 212,
     "metadata": {},
     "output_type": "execute_result"
    }
   ],
   "source": [
    "# trending date is of type object, which is not valuable to us.\n",
    "# lets make that a datetime object, then aggregate to find how long a video will take to trend\n",
    "\n",
    "df['trending_date'] = pd.to_datetime(us_df['trending_date'], format='%y.%d.%m')\n",
    "df['trending_delta'] = df['trending_date'] - df['publish_time'].dt.tz_localize(None)\n",
    "df.head(3)"
   ]
  },
  {
   "cell_type": "code",
   "execution_count": 244,
   "id": "9434a697",
   "metadata": {},
   "outputs": [
    {
     "data": {
      "text/plain": [
       "\"SHANTELL'S CHANNEL - https://www.youtube.com/shantellmartin\\\\nCANDICE - https://www.lovebilly.com\\\\n\\\\nfilmed this video in 4k on this -- http://amzn.to/2sTDnRZ\\\\nwith this lens -- http://amzn.to/2rUJOmD\\\\nbig drone - http://tinyurl.com/h4ft3oy\\\\nOTHER GEAR ---  http://amzn.to/2o3GLX5\\\\nSony CAMERA http://amzn.to/2nOBmnv\\\\nOLD CAMERA; http://amzn.to/2o2cQBT\\\\nMAIN LENS; http://amzn.to/2od5gBJ\\\\nBIG SONY CAMERA; http://amzn.to/2nrdJRO\\\\nBIG Canon CAMERA; http://tinyurl.com/jn4q4vz\\\\nBENDY TRIPOD THING; http://tinyurl.com/gw3ylz2\\\\nYOU NEED THIS FOR THE BENDY TRIPOD; http://tinyurl.com/j8mzzua\\\\nWIDE LENS; http://tinyurl.com/jkfcm8t\\\\nMORE EXPENSIVE WIDE LENS; http://tinyurl.com/zrdgtou\\\\nSMALL CAMERA; http://tinyurl.com/hrrzhor\\\\nMICROPHONE; http://tinyurl.com/zefm4jy\\\\nOTHER MICROPHONE; http://tinyurl.com/jxgpj86\\\\nOLD DRONE (cheaper but still great);http://tinyurl.com/zcfmnmd\\\\n\\\\nfollow me; on http://instagram.com/caseyneistat\\\\non https://www.facebook.com/cneistat\\\\non https://twitter.com/CaseyNeistat\\\\n\\\\namazing intro song by https://soundcloud.com/discoteeth\\\\n\\\\nad disclosure.  THIS IS NOT AN AD.  not selling or promoting anything.  but samsung did produce the Shantell Video as a 'GALAXY PROJECT' which is an initiative that enables creators like Shantell and me to make projects we might otherwise not have the opportunity to make.  hope that's clear.  if not ask in the comments and i'll answer any specifics.\""
      ]
     },
     "execution_count": 244,
     "metadata": {},
     "output_type": "execute_result"
    }
   ],
   "source": [
    "df['description'][0]"
   ]
  },
  {
   "cell_type": "code",
   "execution_count": 247,
   "id": "226d4ec3",
   "metadata": {},
   "outputs": [
    {
     "data": {
      "text/plain": [
       "0        1411.0\n",
       "1         103.0\n",
       "2         631.0\n",
       "3         733.0\n",
       "4         666.0\n",
       "          ...  \n",
       "40944     391.0\n",
       "40945     391.0\n",
       "40946     391.0\n",
       "40947     391.0\n",
       "40948     391.0\n",
       "Name: description, Length: 40230, dtype: float64"
      ]
     },
     "execution_count": 247,
     "metadata": {},
     "output_type": "execute_result"
    }
   ],
   "source": [
    "df['description'].str.findall(r'[.]*').str.len()"
   ]
  },
  {
   "cell_type": "code",
   "execution_count": 237,
   "id": "7b2aaced",
   "metadata": {},
   "outputs": [
    {
     "data": {
      "text/plain": [
       "0        1095.0\n",
       "1          84.0\n",
       "2         492.0\n",
       "3         579.0\n",
       "4         528.0\n",
       "          ...  \n",
       "40944     314.0\n",
       "40945     314.0\n",
       "40946     314.0\n",
       "40947     314.0\n",
       "40948     314.0\n",
       "Name: description, Length: 40230, dtype: float64"
      ]
     },
     "execution_count": 237,
     "metadata": {},
     "output_type": "execute_result"
    }
   ],
   "source": [
    "df['description'].str.findall(r'\\w\\W*').str.len()"
   ]
  },
  {
   "cell_type": "code",
   "execution_count": 259,
   "id": "3a3512a0",
   "metadata": {},
   "outputs": [
    {
     "data": {
      "text/html": [
       "<div>\n",
       "<style scoped>\n",
       "    .dataframe tbody tr th:only-of-type {\n",
       "        vertical-align: middle;\n",
       "    }\n",
       "\n",
       "    .dataframe tbody tr th {\n",
       "        vertical-align: top;\n",
       "    }\n",
       "\n",
       "    .dataframe thead th {\n",
       "        text-align: right;\n",
       "    }\n",
       "</style>\n",
       "<table border=\"1\" class=\"dataframe\">\n",
       "  <thead>\n",
       "    <tr style=\"text-align: right;\">\n",
       "      <th></th>\n",
       "      <th>video_id</th>\n",
       "      <th>trending_date</th>\n",
       "      <th>title</th>\n",
       "      <th>channel_title</th>\n",
       "      <th>publish_time</th>\n",
       "      <th>tags</th>\n",
       "      <th>views</th>\n",
       "      <th>likes</th>\n",
       "      <th>dislikes</th>\n",
       "      <th>comment_count</th>\n",
       "      <th>description</th>\n",
       "      <th>category</th>\n",
       "      <th>trending_delta</th>\n",
       "      <th>like_pct</th>\n",
       "      <th>len_title</th>\n",
       "      <th>len_desc</th>\n",
       "      <th>pct_cap</th>\n",
       "      <th>qty_tags</th>\n",
       "    </tr>\n",
       "  </thead>\n",
       "  <tbody>\n",
       "    <tr>\n",
       "      <th>0</th>\n",
       "      <td>2kyS6SvSYSE</td>\n",
       "      <td>2017-11-14</td>\n",
       "      <td>WE WANT TO TALK ABOUT OUR MARRIAGE</td>\n",
       "      <td>CaseyNeistat</td>\n",
       "      <td>2017-11-13 17:13:01+00:00</td>\n",
       "      <td>SHANtell martin</td>\n",
       "      <td>748374</td>\n",
       "      <td>57527</td>\n",
       "      <td>2966</td>\n",
       "      <td>15954</td>\n",
       "      <td>SHANTELL'S CHANNEL - https://www.youtube.com/s...</td>\n",
       "      <td>People &amp; Blogs</td>\n",
       "      <td>0 days 06:46:59</td>\n",
       "      <td>8.0</td>\n",
       "      <td>35</td>\n",
       "      <td>1411.0</td>\n",
       "      <td>100.0</td>\n",
       "      <td>1</td>\n",
       "    </tr>\n",
       "    <tr>\n",
       "      <th>1</th>\n",
       "      <td>0mlNzVSJrT0</td>\n",
       "      <td>2017-11-14</td>\n",
       "      <td>Me-O Cats Commercial</td>\n",
       "      <td>Nobrand</td>\n",
       "      <td>2017-04-21 06:47:32+00:00</td>\n",
       "      <td>cute|\"cats\"|\"thai\"|\"eggs\"</td>\n",
       "      <td>98966</td>\n",
       "      <td>2486</td>\n",
       "      <td>184</td>\n",
       "      <td>532</td>\n",
       "      <td>Kittens come out of the eggs in a Thai commerc...</td>\n",
       "      <td>People &amp; Blogs</td>\n",
       "      <td>206 days 17:12:28</td>\n",
       "      <td>3.0</td>\n",
       "      <td>21</td>\n",
       "      <td>103.0</td>\n",
       "      <td>24.0</td>\n",
       "      <td>4</td>\n",
       "    </tr>\n",
       "    <tr>\n",
       "      <th>2</th>\n",
       "      <td>STI2fI7sKMo</td>\n",
       "      <td>2017-11-14</td>\n",
       "      <td>AFFAIRS, EX BOYFRIENDS, $18MILLION NET WORTH -...</td>\n",
       "      <td>Shawn Johnson East</td>\n",
       "      <td>2017-11-11 15:00:03+00:00</td>\n",
       "      <td>shawn johnson|\"andrew east\"|\"shawn east\"|\"shaw...</td>\n",
       "      <td>321053</td>\n",
       "      <td>4451</td>\n",
       "      <td>1772</td>\n",
       "      <td>895</td>\n",
       "      <td>Subscribe for weekly videos ▶ http://bit.ly/sj...</td>\n",
       "      <td>People &amp; Blogs</td>\n",
       "      <td>2 days 08:59:57</td>\n",
       "      <td>1.0</td>\n",
       "      <td>76</td>\n",
       "      <td>631.0</td>\n",
       "      <td>79.0</td>\n",
       "      <td>44</td>\n",
       "    </tr>\n",
       "  </tbody>\n",
       "</table>\n",
       "</div>"
      ],
      "text/plain": [
       "      video_id trending_date  \\\n",
       "0  2kyS6SvSYSE    2017-11-14   \n",
       "1  0mlNzVSJrT0    2017-11-14   \n",
       "2  STI2fI7sKMo    2017-11-14   \n",
       "\n",
       "                                               title       channel_title  \\\n",
       "0                 WE WANT TO TALK ABOUT OUR MARRIAGE        CaseyNeistat   \n",
       "1                               Me-O Cats Commercial             Nobrand   \n",
       "2  AFFAIRS, EX BOYFRIENDS, $18MILLION NET WORTH -...  Shawn Johnson East   \n",
       "\n",
       "               publish_time  \\\n",
       "0 2017-11-13 17:13:01+00:00   \n",
       "1 2017-04-21 06:47:32+00:00   \n",
       "2 2017-11-11 15:00:03+00:00   \n",
       "\n",
       "                                                tags   views  likes  dislikes  \\\n",
       "0                                    SHANtell martin  748374  57527      2966   \n",
       "1                          cute|\"cats\"|\"thai\"|\"eggs\"   98966   2486       184   \n",
       "2  shawn johnson|\"andrew east\"|\"shawn east\"|\"shaw...  321053   4451      1772   \n",
       "\n",
       "   comment_count                                        description  \\\n",
       "0          15954  SHANTELL'S CHANNEL - https://www.youtube.com/s...   \n",
       "1            532  Kittens come out of the eggs in a Thai commerc...   \n",
       "2            895  Subscribe for weekly videos ▶ http://bit.ly/sj...   \n",
       "\n",
       "         category    trending_delta  like_pct  len_title  len_desc  pct_cap  \\\n",
       "0  People & Blogs   0 days 06:46:59       8.0         35    1411.0    100.0   \n",
       "1  People & Blogs 206 days 17:12:28       3.0         21     103.0     24.0   \n",
       "2  People & Blogs   2 days 08:59:57       1.0         76     631.0     79.0   \n",
       "\n",
       "   qty_tags  \n",
       "0         1  \n",
       "1         4  \n",
       "2        44  "
      ]
     },
     "execution_count": 259,
     "metadata": {},
     "output_type": "execute_result"
    }
   ],
   "source": [
    "# lets also aggregate certain columns for better analysis\n",
    "\n",
    "df['like_pct'] = 100 * round(df['likes'] / df['views'], 2) # ratio of likes to views\n",
    "df['len_title'] = df['title'].str.findall(r'[.]*').str.len() # count chars in title\n",
    "df['len_desc'] = df['description'].str.findall(r'[.]*').str.len() # count chars in desc\n",
    "df['pct_cap'] = 100 * round(df['title'].str.findall(r'[A-Z]').str.len() /\n",
    "                df['title'].str.findall(r'[A-Za-z]').str.len(), 2) # ratio of cap letters in title\n",
    "df['qty_tags'] = df['tags'].str.split('|').str.len() # count number of tags\n",
    "\n",
    "df.head(3)"
   ]
  },
  {
   "cell_type": "code",
   "execution_count": null,
   "id": "1f4e813e",
   "metadata": {},
   "outputs": [],
   "source": [
    "# let's take a look at"
   ]
  },
  {
   "cell_type": "code",
   "execution_count": 159,
   "id": "810765e3",
   "metadata": {},
   "outputs": [
    {
     "data": {
      "text/plain": [
       "<AxesSubplot:xlabel='category'>"
      ]
     },
     "execution_count": 159,
     "metadata": {},
     "output_type": "execute_result"
    },
    {
     "data": {
      "image/png": "[encoded data removed]",
      "text/plain": [
       "<Figure size 432x288 with 1 Axes>"
      ]
     },
     "metadata": {
      "needs_background": "light"
     },
     "output_type": "display_data"
    }
   ],
   "source": [
    "us_df.groupby('category').agg(count=('category', 'count'))\\\n",
    ".sort_values(by='count', ascending=False).plot.bar(color = 'b')"
   ]
  },
  {
   "cell_type": "code",
   "execution_count": 248,
   "id": "a9da326a",
   "metadata": {},
   "outputs": [
    {
     "data": {
      "text/plain": [
       "0        1.000000\n",
       "1        0.235294\n",
       "2        0.785714\n",
       "3        0.526316\n",
       "4        0.210526\n",
       "           ...   \n",
       "40944    0.266667\n",
       "40945    0.266667\n",
       "40946    0.266667\n",
       "40947    0.266667\n",
       "40948    0.266667\n",
       "Name: title, Length: 40230, dtype: float64"
      ]
     },
     "execution_count": 248,
     "metadata": {},
     "output_type": "execute_result"
    }
   ],
   "source": [
    "pct_cap = us_df['title'].str.findall(r'[A-Z]').str.len() / us_df['title'].str.findall(r'[a-zA-Z]').str.len()\n",
    "\n",
    "pct_cap"
   ]
  },
  {
   "cell_type": "code",
   "execution_count": 253,
   "id": "7d639b65",
   "metadata": {},
   "outputs": [
    {
     "data": {
      "text/plain": [
       "0        100.000000\n",
       "1        262.500000\n",
       "2        135.483871\n",
       "3        196.153846\n",
       "4        287.500000\n",
       "            ...    \n",
       "40944    180.000000\n",
       "40945    180.000000\n",
       "40946    180.000000\n",
       "40947    180.000000\n",
       "40948    180.000000\n",
       "Name: title, Length: 40230, dtype: float64"
      ]
     },
     "execution_count": 253,
     "metadata": {},
     "output_type": "execute_result"
    }
   ],
   "source": [
    "100 * (df['title'].str.findall(r'[A-Z]*').str.len() /\n",
    "                df['title'].str.findall(r'[A-Za-z]*').str.len())"
   ]
  },
  {
   "cell_type": "code",
   "execution_count": 252,
   "id": "1791422b",
   "metadata": {},
   "outputs": [
    {
     "data": {
      "text/plain": [
       "(array([ 2980., 16720., 11682.,  2228.,  1264.,  1008.,   782.,   548.,\n",
       "          310.,  2661.]),\n",
       " array([0. , 0.1, 0.2, 0.3, 0.4, 0.5, 0.6, 0.7, 0.8, 0.9, 1. ]),\n",
       " <BarContainer object of 10 artists>)"
      ]
     },
     "execution_count": 252,
     "metadata": {},
     "output_type": "execute_result"
    },
    {
     "data": {
      "image/png": "[encoded data removed]",
      "text/plain": [
       "<Figure size 432x288 with 1 Axes>"
      ]
     },
     "metadata": {
      "needs_background": "light"
     },
     "output_type": "display_data"
    }
   ],
   "source": [
    "plt.hist(pct_cap)"
   ]
  },
  {
   "cell_type": "code",
   "execution_count": 8,
   "id": "9dd35bd2",
   "metadata": {
    "scrolled": false
   },
   "outputs": [],
   "source": [
    "from datetime import tzinfo, timedelta, datetime"
   ]
  },
  {
   "cell_type": "code",
   "execution_count": 123,
   "id": "12065082",
   "metadata": {},
   "outputs": [
    {
     "data": {
      "text/plain": [
       "<seaborn.axisgrid.FacetGrid at 0x7fa94b382580>"
      ]
     },
     "execution_count": 123,
     "metadata": {},
     "output_type": "execute_result"
    },
    {
     "data": {
      "image/png": "[encoded data removed]",
      "text/plain": [
       "<Figure size 360x360 with 1 Axes>"
      ]
     },
     "metadata": {
      "needs_background": "light"
     },
     "output_type": "display_data"
    }
   ],
   "source": [
    "sns.lmplot(x='len_desc', y='like_pct', data=us_df, palette='Set2')"
   ]
  },
  {
   "cell_type": "code",
   "execution_count": 114,
   "id": "acb9e95a",
   "metadata": {},
   "outputs": [
    {
     "data": {
      "text/plain": [
       "<BarContainer object of 40949 artists>"
      ]
     },
     "execution_count": 114,
     "metadata": {},
     "output_type": "execute_result"
    },
    {
     "data": {
      "image/png": "[encoded data removed]",
      "text/plain": [
       "<Figure size 432x288 with 1 Axes>"
      ]
     },
     "metadata": {
      "needs_background": "light"
     },
     "output_type": "display_data"
    }
   ],
   "source": [
    "plt.bar(pct_cap * 100, us_df['views'])"
   ]
  },
  {
   "cell_type": "code",
   "execution_count": 9,
   "id": "c42770d1",
   "metadata": {
    "scrolled": false
   },
   "outputs": [
    {
     "data": {
      "text/plain": [
       "<AxesSubplot:xlabel='len_desc', ylabel='like_pct'>"
      ]
     },
     "execution_count": 9,
     "metadata": {},
     "output_type": "execute_result"
    },
    {
     "data": {
      "image/png": "[encoded data removed]",
      "text/plain": [
       "<Figure size 432x288 with 1 Axes>"
      ]
     },
     "metadata": {
      "needs_background": "light"
     },
     "output_type": "display_data"
    }
   ],
   "source": [
    "us_df.plot.scatter('len_desc', 'like_pct', alpha=0.5)"
   ]
  },
  {
   "cell_type": "code",
   "execution_count": 10,
   "id": "6b616516",
   "metadata": {
    "scrolled": false
   },
   "outputs": [
    {
     "data": {
      "text/plain": [
       "(array([18878., 11959.,  4708.,  2636.,  1200.,   472.,   246.,   174.,\n",
       "           19.,    87.]),\n",
       " array([  0. ,  79.6, 159.2, 238.8, 318.4, 398. , 477.6, 557.2, 636.8,\n",
       "        716.4, 796. ]),\n",
       " <BarContainer object of 10 artists>)"
      ]
     },
     "execution_count": 10,
     "metadata": {},
     "output_type": "execute_result"
    },
    {
     "data": {
      "image/png": "[encoded data removed]",
      "text/plain": [
       "<Figure size 432x288 with 1 Axes>"
      ]
     },
     "metadata": {
      "needs_background": "light"
     },
     "output_type": "display_data"
    }
   ],
   "source": [
    "plt.hist(us_df['len_desc'])"
   ]
  },
  {
   "cell_type": "code",
   "execution_count": 11,
   "id": "97245189",
   "metadata": {},
   "outputs": [
    {
     "data": {
      "text/plain": [
       "{'whiskers': [<matplotlib.lines.Line2D at 0x7fa91803efa0>,\n",
       "  <matplotlib.lines.Line2D at 0x7fa9198c62b0>],\n",
       " 'caps': [<matplotlib.lines.Line2D at 0x7fa9198c6640>,\n",
       "  <matplotlib.lines.Line2D at 0x7fa9198c6850>],\n",
       " 'boxes': [<matplotlib.lines.Line2D at 0x7fa91803ecd0>],\n",
       " 'medians': [<matplotlib.lines.Line2D at 0x7fa9198c6b20>],\n",
       " 'fliers': [<matplotlib.lines.Line2D at 0x7fa9198c6df0>],\n",
       " 'means': []}"
      ]
     },
     "execution_count": 11,
     "metadata": {},
     "output_type": "execute_result"
    },
    {
     "data": {
      "image/png": "[encoded data removed]",
      "text/plain": [
       "<Figure size 432x288 with 1 Axes>"
      ]
     },
     "metadata": {
      "needs_background": "light"
     },
     "output_type": "display_data"
    }
   ],
   "source": [
    "plt.boxplot(us_df['qty_tags'])"
   ]
  },
  {
   "cell_type": "code",
   "execution_count": 12,
   "id": "0cd1e163",
   "metadata": {},
   "outputs": [
    {
     "data": {
      "text/plain": [
       "<AxesSubplot:>"
      ]
     },
     "execution_count": 12,
     "metadata": {},
     "output_type": "execute_result"
    },
    {
     "data": {
      "image/png": "[encoded data removed]",
      "text/plain": [
       "<Figure size 432x288 with 1 Axes>"
      ]
     },
     "metadata": {
      "needs_background": "light"
     },
     "output_type": "display_data"
    }
   ],
   "source": [
    "np.log(us_df['publish_date'].dt.isocalendar().week).hist()"
   ]
  },
  {
   "cell_type": "code",
   "execution_count": 13,
   "id": "9a33b81b",
   "metadata": {},
   "outputs": [
    {
     "data": {
      "text/plain": [
       "<AxesSubplot:ylabel='Frequency'>"
      ]
     },
     "execution_count": 13,
     "metadata": {},
     "output_type": "execute_result"
    },
    {
     "data": {
      "image/png": "[encoded data removed]",
      "text/plain": [
       "<Figure size 432x288 with 1 Axes>"
      ]
     },
     "metadata": {
      "needs_background": "light"
     },
     "output_type": "display_data"
    }
   ],
   "source": [
    "us_df['publish_date'].dt.isocalendar().day.plot.hist()"
   ]
  },
  {
   "cell_type": "code",
   "execution_count": 14,
   "id": "c99924e4",
   "metadata": {},
   "outputs": [
    {
     "data": {
      "text/html": [
       "<div>\n",
       "<style scoped>\n",
       "    .dataframe tbody tr th:only-of-type {\n",
       "        vertical-align: middle;\n",
       "    }\n",
       "\n",
       "    .dataframe tbody tr th {\n",
       "        vertical-align: top;\n",
       "    }\n",
       "\n",
       "    .dataframe thead th {\n",
       "        text-align: right;\n",
       "    }\n",
       "</style>\n",
       "<table border=\"1\" class=\"dataframe\">\n",
       "  <thead>\n",
       "    <tr style=\"text-align: right;\">\n",
       "      <th></th>\n",
       "      <th>video_id</th>\n",
       "      <th>trending_date</th>\n",
       "      <th>title</th>\n",
       "      <th>channel_title</th>\n",
       "      <th>publish_time</th>\n",
       "      <th>tags</th>\n",
       "      <th>views</th>\n",
       "      <th>likes</th>\n",
       "      <th>dislikes</th>\n",
       "      <th>comment_count</th>\n",
       "      <th>...</th>\n",
       "      <th>ratings_disabled</th>\n",
       "      <th>video_error_or_removed</th>\n",
       "      <th>description</th>\n",
       "      <th>category</th>\n",
       "      <th>like_pct</th>\n",
       "      <th>len_desc</th>\n",
       "      <th>len_title</th>\n",
       "      <th>qty_tags</th>\n",
       "      <th>publish_date</th>\n",
       "      <th>trending_delta</th>\n",
       "    </tr>\n",
       "  </thead>\n",
       "  <tbody>\n",
       "    <tr>\n",
       "      <th>21377</th>\n",
       "      <td>TUmyygCMMGA</td>\n",
       "      <td>2017-11-14</td>\n",
       "      <td>Why the rise of the robots won’t mean the end ...</td>\n",
       "      <td>Vox</td>\n",
       "      <td>2017-11-13 13:45:16+00:00</td>\n",
       "      <td>vox.com|\"vox\"|\"explain\"|\"shift change\"|\"future...</td>\n",
       "      <td>256426</td>\n",
       "      <td>12654</td>\n",
       "      <td>1363</td>\n",
       "      <td>2368</td>\n",
       "      <td>...</td>\n",
       "      <td>False</td>\n",
       "      <td>False</td>\n",
       "      <td>For now, at least, we have better things to wo...</td>\n",
       "      <td>News &amp; Politics</td>\n",
       "      <td>4.934757</td>\n",
       "      <td>172.0</td>\n",
       "      <td>12</td>\n",
       "      <td>20</td>\n",
       "      <td>2017-11-13</td>\n",
       "      <td>1 days</td>\n",
       "    </tr>\n",
       "    <tr>\n",
       "      <th>21391</th>\n",
       "      <td>TUmyygCMMGA</td>\n",
       "      <td>2017-11-15</td>\n",
       "      <td>Why the rise of the robots won’t mean the end ...</td>\n",
       "      <td>Vox</td>\n",
       "      <td>2017-11-13 13:45:16+00:00</td>\n",
       "      <td>vox.com|\"vox\"|\"explain\"|\"shift change\"|\"future...</td>\n",
       "      <td>635985</td>\n",
       "      <td>20721</td>\n",
       "      <td>2417</td>\n",
       "      <td>4111</td>\n",
       "      <td>...</td>\n",
       "      <td>False</td>\n",
       "      <td>False</td>\n",
       "      <td>For now, at least, we have better things to wo...</td>\n",
       "      <td>News &amp; Politics</td>\n",
       "      <td>3.258096</td>\n",
       "      <td>172.0</td>\n",
       "      <td>12</td>\n",
       "      <td>20</td>\n",
       "      <td>2017-11-13</td>\n",
       "      <td>2 days</td>\n",
       "    </tr>\n",
       "    <tr>\n",
       "      <th>21403</th>\n",
       "      <td>_BVAJ3PXZ1k</td>\n",
       "      <td>2017-11-16</td>\n",
       "      <td>The all-American fruit you've probably never h...</td>\n",
       "      <td>Vox</td>\n",
       "      <td>2017-11-15 11:30:00+00:00</td>\n",
       "      <td>vox.com|\"vox\"|\"explain\"|\"pawpaw\"|\"paw paw\"|\"fr...</td>\n",
       "      <td>533940</td>\n",
       "      <td>12633</td>\n",
       "      <td>597</td>\n",
       "      <td>1828</td>\n",
       "      <td>...</td>\n",
       "      <td>False</td>\n",
       "      <td>False</td>\n",
       "      <td>The founding fathers loved the pawpaw fruit, s...</td>\n",
       "      <td>News &amp; Politics</td>\n",
       "      <td>2.365996</td>\n",
       "      <td>95.0</td>\n",
       "      <td>8</td>\n",
       "      <td>41</td>\n",
       "      <td>2017-11-15</td>\n",
       "      <td>1 days</td>\n",
       "    </tr>\n",
       "    <tr>\n",
       "      <th>21416</th>\n",
       "      <td>lJFqvRwOiis</td>\n",
       "      <td>2017-11-17</td>\n",
       "      <td>Walking while black</td>\n",
       "      <td>Vox</td>\n",
       "      <td>2017-11-16 12:55:39+00:00</td>\n",
       "      <td>vox.com|\"vox\"|\"explain\"|\"race\"|\"poverty\"|\"tick...</td>\n",
       "      <td>505886</td>\n",
       "      <td>23207</td>\n",
       "      <td>5375</td>\n",
       "      <td>7030</td>\n",
       "      <td>...</td>\n",
       "      <td>False</td>\n",
       "      <td>False</td>\n",
       "      <td>Jacksonville’s enforcement of pedestrian viola...</td>\n",
       "      <td>News &amp; Politics</td>\n",
       "      <td>4.587397</td>\n",
       "      <td>186.0</td>\n",
       "      <td>3</td>\n",
       "      <td>35</td>\n",
       "      <td>2017-11-16</td>\n",
       "      <td>1 days</td>\n",
       "    </tr>\n",
       "    <tr>\n",
       "      <th>21431</th>\n",
       "      <td>5HOijUtExiM</td>\n",
       "      <td>2017-11-18</td>\n",
       "      <td>The environmental cost of free two-day shipping</td>\n",
       "      <td>Vox</td>\n",
       "      <td>2017-11-17 13:00:12+00:00</td>\n",
       "      <td>vox.com|\"vox\"|\"explain\"|\"ucla\"|\"environmentali...</td>\n",
       "      <td>366048</td>\n",
       "      <td>14742</td>\n",
       "      <td>1308</td>\n",
       "      <td>1948</td>\n",
       "      <td>...</td>\n",
       "      <td>False</td>\n",
       "      <td>False</td>\n",
       "      <td>What’s the environmental impact of online shop...</td>\n",
       "      <td>News &amp; Politics</td>\n",
       "      <td>4.027341</td>\n",
       "      <td>259.0</td>\n",
       "      <td>7</td>\n",
       "      <td>33</td>\n",
       "      <td>2017-11-17</td>\n",
       "      <td>1 days</td>\n",
       "    </tr>\n",
       "    <tr>\n",
       "      <th>...</th>\n",
       "      <td>...</td>\n",
       "      <td>...</td>\n",
       "      <td>...</td>\n",
       "      <td>...</td>\n",
       "      <td>...</td>\n",
       "      <td>...</td>\n",
       "      <td>...</td>\n",
       "      <td>...</td>\n",
       "      <td>...</td>\n",
       "      <td>...</td>\n",
       "      <td>...</td>\n",
       "      <td>...</td>\n",
       "      <td>...</td>\n",
       "      <td>...</td>\n",
       "      <td>...</td>\n",
       "      <td>...</td>\n",
       "      <td>...</td>\n",
       "      <td>...</td>\n",
       "      <td>...</td>\n",
       "      <td>...</td>\n",
       "      <td>...</td>\n",
       "    </tr>\n",
       "    <tr>\n",
       "      <th>23853</th>\n",
       "      <td>Nd3zqXro_P0</td>\n",
       "      <td>2018-06-10</td>\n",
       "      <td>Why 350°F is the magic number for baking</td>\n",
       "      <td>Vox</td>\n",
       "      <td>2018-06-07 12:00:02+00:00</td>\n",
       "      <td>baking|\"maillard reaction\"|\"s pen\"|\"Vox.com\"|\"...</td>\n",
       "      <td>621100</td>\n",
       "      <td>13749</td>\n",
       "      <td>535</td>\n",
       "      <td>1395</td>\n",
       "      <td>...</td>\n",
       "      <td>False</td>\n",
       "      <td>False</td>\n",
       "      <td>Turns out there’s a lot of chemistry in cookin...</td>\n",
       "      <td>News &amp; Politics</td>\n",
       "      <td>2.213653</td>\n",
       "      <td>128.0</td>\n",
       "      <td>8</td>\n",
       "      <td>22</td>\n",
       "      <td>2018-06-07</td>\n",
       "      <td>3 days</td>\n",
       "    </tr>\n",
       "    <tr>\n",
       "      <th>23856</th>\n",
       "      <td>Nd3zqXro_P0</td>\n",
       "      <td>2018-06-11</td>\n",
       "      <td>Why 350°F is the magic number for baking</td>\n",
       "      <td>Vox</td>\n",
       "      <td>2018-06-07 12:00:02+00:00</td>\n",
       "      <td>baking|\"maillard reaction\"|\"s pen\"|\"Vox.com\"|\"...</td>\n",
       "      <td>673657</td>\n",
       "      <td>14433</td>\n",
       "      <td>569</td>\n",
       "      <td>1445</td>\n",
       "      <td>...</td>\n",
       "      <td>False</td>\n",
       "      <td>False</td>\n",
       "      <td>Turns out there’s a lot of chemistry in cookin...</td>\n",
       "      <td>News &amp; Politics</td>\n",
       "      <td>2.142485</td>\n",
       "      <td>128.0</td>\n",
       "      <td>8</td>\n",
       "      <td>22</td>\n",
       "      <td>2018-06-07</td>\n",
       "      <td>4 days</td>\n",
       "    </tr>\n",
       "    <tr>\n",
       "      <th>23859</th>\n",
       "      <td>Nd3zqXro_P0</td>\n",
       "      <td>2018-06-12</td>\n",
       "      <td>Why 350°F is the magic number for baking</td>\n",
       "      <td>Vox</td>\n",
       "      <td>2018-06-07 12:00:02+00:00</td>\n",
       "      <td>baking|\"maillard reaction\"|\"s pen\"|\"Vox.com\"|\"...</td>\n",
       "      <td>741829</td>\n",
       "      <td>15368</td>\n",
       "      <td>618</td>\n",
       "      <td>1506</td>\n",
       "      <td>...</td>\n",
       "      <td>False</td>\n",
       "      <td>False</td>\n",
       "      <td>Turns out there’s a lot of chemistry in cookin...</td>\n",
       "      <td>News &amp; Politics</td>\n",
       "      <td>2.071636</td>\n",
       "      <td>128.0</td>\n",
       "      <td>8</td>\n",
       "      <td>22</td>\n",
       "      <td>2018-06-07</td>\n",
       "      <td>5 days</td>\n",
       "    </tr>\n",
       "    <tr>\n",
       "      <th>23861</th>\n",
       "      <td>Nd3zqXro_P0</td>\n",
       "      <td>2018-06-13</td>\n",
       "      <td>Why 350°F is the magic number for baking</td>\n",
       "      <td>Vox</td>\n",
       "      <td>2018-06-07 12:00:02+00:00</td>\n",
       "      <td>baking|\"maillard reaction\"|\"s pen\"|\"Vox.com\"|\"...</td>\n",
       "      <td>782283</td>\n",
       "      <td>15845</td>\n",
       "      <td>643</td>\n",
       "      <td>1542</td>\n",
       "      <td>...</td>\n",
       "      <td>False</td>\n",
       "      <td>False</td>\n",
       "      <td>Turns out there’s a lot of chemistry in cookin...</td>\n",
       "      <td>News &amp; Politics</td>\n",
       "      <td>2.025482</td>\n",
       "      <td>128.0</td>\n",
       "      <td>8</td>\n",
       "      <td>22</td>\n",
       "      <td>2018-06-07</td>\n",
       "      <td>6 days</td>\n",
       "    </tr>\n",
       "    <tr>\n",
       "      <th>23863</th>\n",
       "      <td>Nd3zqXro_P0</td>\n",
       "      <td>2018-06-14</td>\n",
       "      <td>Why 350°F is the magic number for baking</td>\n",
       "      <td>Vox</td>\n",
       "      <td>2018-06-07 12:00:02+00:00</td>\n",
       "      <td>baking|\"maillard reaction\"|\"s pen\"|\"Vox.com\"|\"...</td>\n",
       "      <td>799411</td>\n",
       "      <td>16092</td>\n",
       "      <td>652</td>\n",
       "      <td>1551</td>\n",
       "      <td>...</td>\n",
       "      <td>False</td>\n",
       "      <td>False</td>\n",
       "      <td>Turns out there’s a lot of chemistry in cookin...</td>\n",
       "      <td>News &amp; Politics</td>\n",
       "      <td>2.012982</td>\n",
       "      <td>128.0</td>\n",
       "      <td>8</td>\n",
       "      <td>22</td>\n",
       "      <td>2018-06-07</td>\n",
       "      <td>7 days</td>\n",
       "    </tr>\n",
       "  </tbody>\n",
       "</table>\n",
       "<p>193 rows × 21 columns</p>\n",
       "</div>"
      ],
      "text/plain": [
       "          video_id trending_date  \\\n",
       "21377  TUmyygCMMGA    2017-11-14   \n",
       "21391  TUmyygCMMGA    2017-11-15   \n",
       "21403  _BVAJ3PXZ1k    2017-11-16   \n",
       "21416  lJFqvRwOiis    2017-11-17   \n",
       "21431  5HOijUtExiM    2017-11-18   \n",
       "...            ...           ...   \n",
       "23853  Nd3zqXro_P0    2018-06-10   \n",
       "23856  Nd3zqXro_P0    2018-06-11   \n",
       "23859  Nd3zqXro_P0    2018-06-12   \n",
       "23861  Nd3zqXro_P0    2018-06-13   \n",
       "23863  Nd3zqXro_P0    2018-06-14   \n",
       "\n",
       "                                                   title channel_title  \\\n",
       "21377  Why the rise of the robots won’t mean the end ...           Vox   \n",
       "21391  Why the rise of the robots won’t mean the end ...           Vox   \n",
       "21403  The all-American fruit you've probably never h...           Vox   \n",
       "21416                                Walking while black           Vox   \n",
       "21431    The environmental cost of free two-day shipping           Vox   \n",
       "...                                                  ...           ...   \n",
       "23853           Why 350°F is the magic number for baking           Vox   \n",
       "23856           Why 350°F is the magic number for baking           Vox   \n",
       "23859           Why 350°F is the magic number for baking           Vox   \n",
       "23861           Why 350°F is the magic number for baking           Vox   \n",
       "23863           Why 350°F is the magic number for baking           Vox   \n",
       "\n",
       "                   publish_time  \\\n",
       "21377 2017-11-13 13:45:16+00:00   \n",
       "21391 2017-11-13 13:45:16+00:00   \n",
       "21403 2017-11-15 11:30:00+00:00   \n",
       "21416 2017-11-16 12:55:39+00:00   \n",
       "21431 2017-11-17 13:00:12+00:00   \n",
       "...                         ...   \n",
       "23853 2018-06-07 12:00:02+00:00   \n",
       "23856 2018-06-07 12:00:02+00:00   \n",
       "23859 2018-06-07 12:00:02+00:00   \n",
       "23861 2018-06-07 12:00:02+00:00   \n",
       "23863 2018-06-07 12:00:02+00:00   \n",
       "\n",
       "                                                    tags   views  likes  \\\n",
       "21377  vox.com|\"vox\"|\"explain\"|\"shift change\"|\"future...  256426  12654   \n",
       "21391  vox.com|\"vox\"|\"explain\"|\"shift change\"|\"future...  635985  20721   \n",
       "21403  vox.com|\"vox\"|\"explain\"|\"pawpaw\"|\"paw paw\"|\"fr...  533940  12633   \n",
       "21416  vox.com|\"vox\"|\"explain\"|\"race\"|\"poverty\"|\"tick...  505886  23207   \n",
       "21431  vox.com|\"vox\"|\"explain\"|\"ucla\"|\"environmentali...  366048  14742   \n",
       "...                                                  ...     ...    ...   \n",
       "23853  baking|\"maillard reaction\"|\"s pen\"|\"Vox.com\"|\"...  621100  13749   \n",
       "23856  baking|\"maillard reaction\"|\"s pen\"|\"Vox.com\"|\"...  673657  14433   \n",
       "23859  baking|\"maillard reaction\"|\"s pen\"|\"Vox.com\"|\"...  741829  15368   \n",
       "23861  baking|\"maillard reaction\"|\"s pen\"|\"Vox.com\"|\"...  782283  15845   \n",
       "23863  baking|\"maillard reaction\"|\"s pen\"|\"Vox.com\"|\"...  799411  16092   \n",
       "\n",
       "       dislikes  comment_count  ...  ratings_disabled  video_error_or_removed  \\\n",
       "21377      1363           2368  ...             False                   False   \n",
       "21391      2417           4111  ...             False                   False   \n",
       "21403       597           1828  ...             False                   False   \n",
       "21416      5375           7030  ...             False                   False   \n",
       "21431      1308           1948  ...             False                   False   \n",
       "...         ...            ...  ...               ...                     ...   \n",
       "23853       535           1395  ...             False                   False   \n",
       "23856       569           1445  ...             False                   False   \n",
       "23859       618           1506  ...             False                   False   \n",
       "23861       643           1542  ...             False                   False   \n",
       "23863       652           1551  ...             False                   False   \n",
       "\n",
       "                                             description         category  \\\n",
       "21377  For now, at least, we have better things to wo...  News & Politics   \n",
       "21391  For now, at least, we have better things to wo...  News & Politics   \n",
       "21403  The founding fathers loved the pawpaw fruit, s...  News & Politics   \n",
       "21416  Jacksonville’s enforcement of pedestrian viola...  News & Politics   \n",
       "21431  What’s the environmental impact of online shop...  News & Politics   \n",
       "...                                                  ...              ...   \n",
       "23853  Turns out there’s a lot of chemistry in cookin...  News & Politics   \n",
       "23856  Turns out there’s a lot of chemistry in cookin...  News & Politics   \n",
       "23859  Turns out there’s a lot of chemistry in cookin...  News & Politics   \n",
       "23861  Turns out there’s a lot of chemistry in cookin...  News & Politics   \n",
       "23863  Turns out there’s a lot of chemistry in cookin...  News & Politics   \n",
       "\n",
       "       like_pct  len_desc  len_title  qty_tags  publish_date trending_delta  \n",
       "21377  4.934757     172.0         12        20    2017-11-13         1 days  \n",
       "21391  3.258096     172.0         12        20    2017-11-13         2 days  \n",
       "21403  2.365996      95.0          8        41    2017-11-15         1 days  \n",
       "21416  4.587397     186.0          3        35    2017-11-16         1 days  \n",
       "21431  4.027341     259.0          7        33    2017-11-17         1 days  \n",
       "...         ...       ...        ...       ...           ...            ...  \n",
       "23853  2.213653     128.0          8        22    2018-06-07         3 days  \n",
       "23856  2.142485     128.0          8        22    2018-06-07         4 days  \n",
       "23859  2.071636     128.0          8        22    2018-06-07         5 days  \n",
       "23861  2.025482     128.0          8        22    2018-06-07         6 days  \n",
       "23863  2.012982     128.0          8        22    2018-06-07         7 days  \n",
       "\n",
       "[193 rows x 21 columns]"
      ]
     },
     "execution_count": 14,
     "metadata": {},
     "output_type": "execute_result"
    }
   ],
   "source": [
    "us_df[us_df['channel_title'] == 'Vox']"
   ]
  },
  {
   "cell_type": "code",
   "execution_count": 15,
   "id": "7fd633ec",
   "metadata": {},
   "outputs": [
    {
     "data": {
      "text/plain": [
       "ESPN                                      203\n",
       "The Tonight Show Starring Jimmy Fallon    197\n",
       "Vox                                       193\n",
       "Netflix                                   193\n",
       "TheEllenShow                              193\n",
       "The Late Show with Stephen Colbert        187\n",
       "Jimmy Kimmel Live                         186\n",
       "Late Night with Seth Meyers               183\n",
       "Screen Junkies                            182\n",
       "NBA                                       181\n",
       "CNN                                       180\n",
       "Saturday Night Live                       175\n",
       "WIRED                                     171\n",
       "BuzzFeedVideo                             169\n",
       "INSIDER                                   167\n",
       "The Late Late Show with James Corden      163\n",
       "TED-Ed                                    162\n",
       "Tom Scott                                 159\n",
       "WWE                                       157\n",
       "CollegeHumor                              156\n",
       "First We Feast                            153\n",
       "HellthyJunkFood                           153\n",
       "Bon Appétit                               151\n",
       "Tasty                                     151\n",
       "Warner Bros. Pictures                     150\n",
       "FBE                                       149\n",
       "Life Noggin                               148\n",
       "jacksfilms                                148\n",
       "The King of Random                        148\n",
       "Good Mythical Morning                     147\n",
       "Vanity Fair                               145\n",
       "Vogue                                     140\n",
       "Safiya Nygaard                            139\n",
       "20th Century Fox                          135\n",
       "SciShow                                   135\n",
       "Smosh                                     133\n",
       "Dude Perfect                              131\n",
       "Marques Brownlee                          130\n",
       "Great Big Story                           128\n",
       "Marvel Entertainment                      125\n",
       "AsapSCIENCE                               124\n",
       "ABC News                                  123\n",
       "NFL                                       123\n",
       "The Slow Mo Guys                          122\n",
       "The Voice                                 121\n",
       "James Charles                             118\n",
       "CrazyRussianHacker                        115\n",
       "Washington Post                           115\n",
       "Simon's Cat                               115\n",
       "Kurzgesagt – In a Nutshell                115\n",
       "Name: channel_title, dtype: int64"
      ]
     },
     "execution_count": 15,
     "metadata": {},
     "output_type": "execute_result"
    }
   ],
   "source": [
    "us_df['channel_title'].value_counts().head(50)"
   ]
  },
  {
   "cell_type": "code",
   "execution_count": 95,
   "id": "0e7ae846",
   "metadata": {},
   "outputs": [
    {
     "data": {
      "text/plain": [
       "<AxesSubplot:xlabel='trending_delta', ylabel='qty_tags'>"
      ]
     },
     "execution_count": 95,
     "metadata": {},
     "output_type": "execute_result"
    },
    {
     "data": {
      "image/png": "[encoded data removed]",
      "text/plain": [
       "<Figure size 432x288 with 1 Axes>"
      ]
     },
     "metadata": {
      "needs_background": "light"
     },
     "output_type": "display_data"
    }
   ],
   "source": [
    "tmp = pd.DataFrame(us_df['trending_delta'].dt.days).join(us_df['qty_tags'])\n",
    "tmp.plot.scatter('trending_delta', 'qty_tags')"
   ]
  },
  {
   "cell_type": "code",
   "execution_count": 17,
   "id": "d3ff7684",
   "metadata": {},
   "outputs": [
    {
     "data": {
      "text/plain": [
       "Text(0.5, 1.0, '')"
      ]
     },
     "execution_count": 17,
     "metadata": {},
     "output_type": "execute_result"
    },
    {
     "data": {
      "image/png": "[encoded data removed]",
      "text/plain": [
       "<Figure size 432x288 with 1 Axes>"
      ]
     },
     "metadata": {
      "needs_background": "light"
     },
     "output_type": "display_data"
    }
   ],
   "source": [
    "plt.hist(us_df['trending_delta'].dt.days, range=(1, 20))\n",
    "plt.xlabel('# of days before viral')\n",
    "plt.ylabel('videos')\n",
    "plt.title('')"
   ]
  },
  {
   "cell_type": "code",
   "execution_count": 18,
   "id": "691276fd",
   "metadata": {},
   "outputs": [
    {
     "data": {
      "image/png": "[encoded data removed]",
      "text/plain": [
       "<Figure size 432x288 with 1 Axes>"
      ]
     },
     "metadata": {
      "needs_background": "light"
     },
     "output_type": "display_data"
    }
   ],
   "source": [
    "for c in list(us_df['category'].unique()):\n",
    "    us_df[us_df['category'] == c]['trending_delta'].dt.days.plot.hist(range=(1, 20))"
   ]
  },
  {
   "cell_type": "code",
   "execution_count": 19,
   "id": "ef81b236",
   "metadata": {},
   "outputs": [
    {
     "data": {
      "text/plain": [
       "Text(0, 0.5, 'count')"
      ]
     },
     "execution_count": 19,
     "metadata": {},
     "output_type": "execute_result"
    },
    {
     "data": {
      "image/png": "[encoded data removed]",
      "text/plain": [
       "<Figure size 432x288 with 1 Axes>"
      ]
     },
     "metadata": {
      "needs_background": "light"
     },
     "output_type": "display_data"
    }
   ],
   "source": [
    "plt.hist(us_df['len_title'], bins=10, )\n",
    "plt.xlabel('title length (words)')\n",
    "plt.ylabel('count')"
   ]
  }
 ],
 "metadata": {
  "kernelspec": {
   "display_name": "Python 3 (ipykernel)",
   "language": "python",
   "name": "python3"
  },
  "language_info": {
   "codemirror_mode": {
    "name": "ipython",
    "version": 3
   },
   "file_extension": ".py",
   "mimetype": "text/x-python",
   "name": "python",
   "nbconvert_exporter": "python",
   "pygments_lexer": "ipython3",
   "version": "3.9.12"
  }
 },
 "nbformat": 4,
 "nbformat_minor": 5
}
