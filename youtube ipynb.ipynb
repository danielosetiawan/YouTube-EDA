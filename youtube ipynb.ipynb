{
 "cells": [
  {
   "cell_type": "code",
   "execution_count": 1,
   "id": "7664882a",
   "metadata": {},
   "outputs": [],
   "source": [
    "import re\n",
    "import pandas as pd\n",
    "import numpy as np\n",
    "import seaborn as sns\n",
    "from matplotlib import pyplot as plt"
   ]
  },
  {
   "cell_type": "code",
   "execution_count": 2,
   "id": "1550c6cd",
   "metadata": {},
   "outputs": [],
   "source": [
    "pd.set_option('display.max_columns', 50)"
   ]
  },
  {
   "cell_type": "markdown",
   "id": "272c9bab",
   "metadata": {},
   "source": [
    "# Creating the dataframes"
   ]
  },
  {
   "cell_type": "code",
   "execution_count": 3,
   "id": "3d7158a1",
   "metadata": {
    "scrolled": false
   },
   "outputs": [
    {
     "data": {
      "text/html": [
       "<div>\n",
       "<style scoped>\n",
       "    .dataframe tbody tr th:only-of-type {\n",
       "        vertical-align: middle;\n",
       "    }\n",
       "\n",
       "    .dataframe tbody tr th {\n",
       "        vertical-align: top;\n",
       "    }\n",
       "\n",
       "    .dataframe thead th {\n",
       "        text-align: right;\n",
       "    }\n",
       "</style>\n",
       "<table border=\"1\" class=\"dataframe\">\n",
       "  <thead>\n",
       "    <tr style=\"text-align: right;\">\n",
       "      <th></th>\n",
       "      <th>video_id</th>\n",
       "      <th>trending_date</th>\n",
       "      <th>title</th>\n",
       "      <th>channel_title</th>\n",
       "      <th>publish_time</th>\n",
       "      <th>tags</th>\n",
       "      <th>views</th>\n",
       "      <th>likes</th>\n",
       "      <th>dislikes</th>\n",
       "      <th>comment_count</th>\n",
       "      <th>comments_disabled</th>\n",
       "      <th>ratings_disabled</th>\n",
       "      <th>video_error_or_removed</th>\n",
       "      <th>description</th>\n",
       "      <th>category</th>\n",
       "    </tr>\n",
       "  </thead>\n",
       "  <tbody>\n",
       "    <tr>\n",
       "      <th>0</th>\n",
       "      <td>2kyS6SvSYSE</td>\n",
       "      <td>17.14.11</td>\n",
       "      <td>WE WANT TO TALK ABOUT OUR MARRIAGE</td>\n",
       "      <td>CaseyNeistat</td>\n",
       "      <td>2017-11-13 17:13:01+00:00</td>\n",
       "      <td>SHANtell martin</td>\n",
       "      <td>748374</td>\n",
       "      <td>57527</td>\n",
       "      <td>2966</td>\n",
       "      <td>15954</td>\n",
       "      <td>False</td>\n",
       "      <td>False</td>\n",
       "      <td>False</td>\n",
       "      <td>SHANTELL'S CHANNEL - https://www.youtube.com/s...</td>\n",
       "      <td>People &amp; Blogs</td>\n",
       "    </tr>\n",
       "  </tbody>\n",
       "</table>\n",
       "</div>"
      ],
      "text/plain": [
       "      video_id trending_date                               title  \\\n",
       "0  2kyS6SvSYSE      17.14.11  WE WANT TO TALK ABOUT OUR MARRIAGE   \n",
       "\n",
       "  channel_title              publish_time             tags   views  likes  \\\n",
       "0  CaseyNeistat 2017-11-13 17:13:01+00:00  SHANtell martin  748374  57527   \n",
       "\n",
       "   dislikes  comment_count  comments_disabled  ratings_disabled  \\\n",
       "0      2966          15954              False             False   \n",
       "\n",
       "   video_error_or_removed                                        description  \\\n",
       "0                   False  SHANTELL'S CHANNEL - https://www.youtube.com/s...   \n",
       "\n",
       "         category  \n",
       "0  People & Blogs  "
      ]
     },
     "execution_count": 3,
     "metadata": {},
     "output_type": "execute_result"
    }
   ],
   "source": [
    "countries = ['US', 'DE', 'CA', 'FR', 'GB', 'IN', 'JP', 'KR', 'MX', 'RU']\n",
    "dframes = [code.lower()+'_df' for code in countries]\n",
    "\n",
    "cat_ids = pd.read_csv('yt category list.csv', delimiter=' - ', engine='python')\n",
    "for code, df in zip(countries, dframes):\n",
    "    globals()[df] = pd.read_csv(f'{code}videos.csv', parse_dates=['trending_date', 'publish_time'], \\\n",
    "                                encoding_errors='ignore').merge(cat_ids, on='category_id', how='inner')\\\n",
    "                                .drop(['category_id', 'thumbnail_link'], axis=1)\n",
    "    \n",
    "us_df.head(1)"
   ]
  },
  {
   "cell_type": "code",
   "execution_count": 4,
   "id": "378427d2",
   "metadata": {},
   "outputs": [
    {
     "data": {
      "text/html": [
       "<div>\n",
       "<style scoped>\n",
       "    .dataframe tbody tr th:only-of-type {\n",
       "        vertical-align: middle;\n",
       "    }\n",
       "\n",
       "    .dataframe tbody tr th {\n",
       "        vertical-align: top;\n",
       "    }\n",
       "\n",
       "    .dataframe thead th {\n",
       "        text-align: right;\n",
       "    }\n",
       "</style>\n",
       "<table border=\"1\" class=\"dataframe\">\n",
       "  <thead>\n",
       "    <tr style=\"text-align: right;\">\n",
       "      <th></th>\n",
       "      <th>video_id</th>\n",
       "      <th>trending_date</th>\n",
       "      <th>title</th>\n",
       "      <th>channel_title</th>\n",
       "      <th>publish_time</th>\n",
       "      <th>tags</th>\n",
       "      <th>views</th>\n",
       "      <th>likes</th>\n",
       "      <th>dislikes</th>\n",
       "      <th>comment_count</th>\n",
       "      <th>comments_disabled</th>\n",
       "      <th>ratings_disabled</th>\n",
       "      <th>video_error_or_removed</th>\n",
       "      <th>description</th>\n",
       "      <th>category</th>\n",
       "      <th>country</th>\n",
       "    </tr>\n",
       "  </thead>\n",
       "  <tbody>\n",
       "    <tr>\n",
       "      <th>0</th>\n",
       "      <td>2kyS6SvSYSE</td>\n",
       "      <td>17.14.11</td>\n",
       "      <td>WE WANT TO TALK ABOUT OUR MARRIAGE</td>\n",
       "      <td>CaseyNeistat</td>\n",
       "      <td>2017-11-13 17:13:01+00:00</td>\n",
       "      <td>SHANtell martin</td>\n",
       "      <td>748374</td>\n",
       "      <td>57527</td>\n",
       "      <td>2966</td>\n",
       "      <td>15954</td>\n",
       "      <td>False</td>\n",
       "      <td>False</td>\n",
       "      <td>False</td>\n",
       "      <td>SHANTELL'S CHANNEL - https://www.youtube.com/s...</td>\n",
       "      <td>People &amp; Blogs</td>\n",
       "      <td>US</td>\n",
       "    </tr>\n",
       "    <tr>\n",
       "      <th>1</th>\n",
       "      <td>0mlNzVSJrT0</td>\n",
       "      <td>17.14.11</td>\n",
       "      <td>Me-O Cats Commercial</td>\n",
       "      <td>Nobrand</td>\n",
       "      <td>2017-04-21 06:47:32+00:00</td>\n",
       "      <td>cute|\"cats\"|\"thai\"|\"eggs\"</td>\n",
       "      <td>98966</td>\n",
       "      <td>2486</td>\n",
       "      <td>184</td>\n",
       "      <td>532</td>\n",
       "      <td>False</td>\n",
       "      <td>False</td>\n",
       "      <td>False</td>\n",
       "      <td>Kittens come out of the eggs in a Thai commerc...</td>\n",
       "      <td>People &amp; Blogs</td>\n",
       "      <td>US</td>\n",
       "    </tr>\n",
       "  </tbody>\n",
       "</table>\n",
       "</div>"
      ],
      "text/plain": [
       "      video_id trending_date                               title  \\\n",
       "0  2kyS6SvSYSE      17.14.11  WE WANT TO TALK ABOUT OUR MARRIAGE   \n",
       "1  0mlNzVSJrT0      17.14.11                Me-O Cats Commercial   \n",
       "\n",
       "  channel_title              publish_time                       tags   views  \\\n",
       "0  CaseyNeistat 2017-11-13 17:13:01+00:00            SHANtell martin  748374   \n",
       "1       Nobrand 2017-04-21 06:47:32+00:00  cute|\"cats\"|\"thai\"|\"eggs\"   98966   \n",
       "\n",
       "   likes  dislikes  comment_count  comments_disabled  ratings_disabled  \\\n",
       "0  57527      2966          15954              False             False   \n",
       "1   2486       184            532              False             False   \n",
       "\n",
       "   video_error_or_removed                                        description  \\\n",
       "0                   False  SHANTELL'S CHANNEL - https://www.youtube.com/s...   \n",
       "1                   False  Kittens come out of the eggs in a Thai commerc...   \n",
       "\n",
       "         category country  \n",
       "0  People & Blogs      US  \n",
       "1  People & Blogs      US  "
      ]
     },
     "execution_count": 4,
     "metadata": {},
     "output_type": "execute_result"
    }
   ],
   "source": [
    "# we now have a dataframe for each of the countries\n",
    "# we need to merge and identify the dataframes we've merged\n",
    "\n",
    "df_list = []\n",
    "for code, df in zip(countries, dframes):\n",
    "    globals()[df]['country'] = code\n",
    "    df_list.append(globals()[df])\n",
    "    \n",
    "df = pd.concat(df_list)\n",
    "df.head(2)"
   ]
  },
  {
   "cell_type": "markdown",
   "id": "da57cf80",
   "metadata": {},
   "source": [
    "# Cleaning up the raw data"
   ]
  },
  {
   "cell_type": "code",
   "execution_count": 5,
   "id": "b8de2b13",
   "metadata": {},
   "outputs": [
    {
     "name": "stdout",
     "output_type": "stream",
     "text": [
      "375942\n"
     ]
    }
   ],
   "source": [
    "# lets first remove some bias\n",
    "# this will be videos with comments or ratings disabled\n",
    "# this will also be videos with errors or has been removed\n",
    "\n",
    "print(len(df))\n",
    "\n",
    "df = df[~(df['comments_disabled'] | \\\n",
    "          df['ratings_disabled'] | \\\n",
    "          df['video_error_or_removed']) == True]\n",
    "\n",
    "df = df.drop(['comments_disabled', \n",
    "              'ratings_disabled', \n",
    "              'video_error_or_removed'], axis=1)"
   ]
  },
  {
   "cell_type": "code",
   "execution_count": 6,
   "id": "6ce680e3",
   "metadata": {},
   "outputs": [],
   "source": [
    "# lets also get rid of any null values, if existent\n",
    "df = df.dropna()"
   ]
  },
  {
   "cell_type": "code",
   "execution_count": 7,
   "id": "b93f9e09",
   "metadata": {
    "scrolled": false
   },
   "outputs": [],
   "source": [
    "# it also wouldn't be helpful to have nans in values later on\n",
    "# so we'll remove any rows with int 0 in it\n",
    "df = df.drop(df[df.isin([0]).any(axis = 1)].index)"
   ]
  },
  {
   "cell_type": "code",
   "execution_count": 8,
   "id": "27e412dc",
   "metadata": {},
   "outputs": [
    {
     "data": {
      "text/html": [
       "<div>\n",
       "<style scoped>\n",
       "    .dataframe tbody tr th:only-of-type {\n",
       "        vertical-align: middle;\n",
       "    }\n",
       "\n",
       "    .dataframe tbody tr th {\n",
       "        vertical-align: top;\n",
       "    }\n",
       "\n",
       "    .dataframe thead th {\n",
       "        text-align: right;\n",
       "    }\n",
       "</style>\n",
       "<table border=\"1\" class=\"dataframe\">\n",
       "  <thead>\n",
       "    <tr style=\"text-align: right;\">\n",
       "      <th></th>\n",
       "      <th>video_id</th>\n",
       "      <th>trending_date</th>\n",
       "      <th>title</th>\n",
       "      <th>channel_title</th>\n",
       "      <th>publish_time</th>\n",
       "      <th>tags</th>\n",
       "      <th>views</th>\n",
       "      <th>likes</th>\n",
       "      <th>dislikes</th>\n",
       "      <th>comment_count</th>\n",
       "      <th>description</th>\n",
       "      <th>category</th>\n",
       "      <th>country</th>\n",
       "      <th>trending_delta</th>\n",
       "    </tr>\n",
       "  </thead>\n",
       "  <tbody>\n",
       "    <tr>\n",
       "      <th>0</th>\n",
       "      <td>2kyS6SvSYSE</td>\n",
       "      <td>2017-11-14</td>\n",
       "      <td>WE WANT TO TALK ABOUT OUR MARRIAGE</td>\n",
       "      <td>CaseyNeistat</td>\n",
       "      <td>2017-11-13 17:13:01+00:00</td>\n",
       "      <td>SHANtell martin</td>\n",
       "      <td>748374</td>\n",
       "      <td>57527</td>\n",
       "      <td>2966</td>\n",
       "      <td>15954</td>\n",
       "      <td>SHANTELL'S CHANNEL - https://www.youtube.com/s...</td>\n",
       "      <td>People &amp; Blogs</td>\n",
       "      <td>US</td>\n",
       "      <td>1</td>\n",
       "    </tr>\n",
       "    <tr>\n",
       "      <th>1</th>\n",
       "      <td>0mlNzVSJrT0</td>\n",
       "      <td>2017-11-14</td>\n",
       "      <td>Me-O Cats Commercial</td>\n",
       "      <td>Nobrand</td>\n",
       "      <td>2017-04-21 06:47:32+00:00</td>\n",
       "      <td>cute|\"cats\"|\"thai\"|\"eggs\"</td>\n",
       "      <td>98966</td>\n",
       "      <td>2486</td>\n",
       "      <td>184</td>\n",
       "      <td>532</td>\n",
       "      <td>Kittens come out of the eggs in a Thai commerc...</td>\n",
       "      <td>People &amp; Blogs</td>\n",
       "      <td>US</td>\n",
       "      <td>207</td>\n",
       "    </tr>\n",
       "  </tbody>\n",
       "</table>\n",
       "</div>"
      ],
      "text/plain": [
       "      video_id trending_date                               title  \\\n",
       "0  2kyS6SvSYSE    2017-11-14  WE WANT TO TALK ABOUT OUR MARRIAGE   \n",
       "1  0mlNzVSJrT0    2017-11-14                Me-O Cats Commercial   \n",
       "\n",
       "  channel_title              publish_time                       tags   views  \\\n",
       "0  CaseyNeistat 2017-11-13 17:13:01+00:00            SHANtell martin  748374   \n",
       "1       Nobrand 2017-04-21 06:47:32+00:00  cute|\"cats\"|\"thai\"|\"eggs\"   98966   \n",
       "\n",
       "   likes  dislikes  comment_count  \\\n",
       "0  57527      2966          15954   \n",
       "1   2486       184            532   \n",
       "\n",
       "                                         description        category country  \\\n",
       "0  SHANTELL'S CHANNEL - https://www.youtube.com/s...  People & Blogs      US   \n",
       "1  Kittens come out of the eggs in a Thai commerc...  People & Blogs      US   \n",
       "\n",
       "   trending_delta  \n",
       "0               1  \n",
       "1             207  "
      ]
     },
     "execution_count": 8,
     "metadata": {},
     "output_type": "execute_result"
    }
   ],
   "source": [
    "# trending date is of type object, which is not valuable to us.\n",
    "# lets make that a datetime object, then aggregate to find how long a video will take to trend\n",
    "\n",
    "df['trending_date'] = pd.to_datetime(df['trending_date'], format='%y.%d.%m')\n",
    "df['trending_delta'] = df['trending_date'] - df['publish_time'].dt.tz_localize(None)\n",
    "df['trending_delta'] = df['trending_delta'].dt.days + 1\n",
    "df.head(2)"
   ]
  },
  {
   "cell_type": "code",
   "execution_count": 9,
   "id": "54a62e86",
   "metadata": {},
   "outputs": [
    {
     "data": {
      "text/html": [
       "<div>\n",
       "<style scoped>\n",
       "    .dataframe tbody tr th:only-of-type {\n",
       "        vertical-align: middle;\n",
       "    }\n",
       "\n",
       "    .dataframe tbody tr th {\n",
       "        vertical-align: top;\n",
       "    }\n",
       "\n",
       "    .dataframe thead th {\n",
       "        text-align: right;\n",
       "    }\n",
       "</style>\n",
       "<table border=\"1\" class=\"dataframe\">\n",
       "  <thead>\n",
       "    <tr style=\"text-align: right;\">\n",
       "      <th></th>\n",
       "      <th>video_id</th>\n",
       "      <th>trending_date</th>\n",
       "      <th>title</th>\n",
       "      <th>channel_title</th>\n",
       "      <th>publish_time</th>\n",
       "      <th>tags</th>\n",
       "      <th>views</th>\n",
       "      <th>likes</th>\n",
       "      <th>dislikes</th>\n",
       "      <th>comment_count</th>\n",
       "      <th>description</th>\n",
       "      <th>category</th>\n",
       "      <th>country</th>\n",
       "      <th>trending_delta</th>\n",
       "      <th>hour</th>\n",
       "      <th>day</th>\n",
       "      <th>week</th>\n",
       "      <th>month</th>\n",
       "      <th>year</th>\n",
       "    </tr>\n",
       "  </thead>\n",
       "  <tbody>\n",
       "    <tr>\n",
       "      <th>0</th>\n",
       "      <td>2kyS6SvSYSE</td>\n",
       "      <td>2017-11-14</td>\n",
       "      <td>WE WANT TO TALK ABOUT OUR MARRIAGE</td>\n",
       "      <td>CaseyNeistat</td>\n",
       "      <td>2017-11-13 17:13:01+00:00</td>\n",
       "      <td>SHANtell martin</td>\n",
       "      <td>748374</td>\n",
       "      <td>57527</td>\n",
       "      <td>2966</td>\n",
       "      <td>15954</td>\n",
       "      <td>SHANTELL'S CHANNEL - https://www.youtube.com/s...</td>\n",
       "      <td>People &amp; Blogs</td>\n",
       "      <td>US</td>\n",
       "      <td>1</td>\n",
       "      <td>17</td>\n",
       "      <td>13</td>\n",
       "      <td>Monday</td>\n",
       "      <td>November</td>\n",
       "      <td>2017</td>\n",
       "    </tr>\n",
       "    <tr>\n",
       "      <th>1</th>\n",
       "      <td>0mlNzVSJrT0</td>\n",
       "      <td>2017-11-14</td>\n",
       "      <td>Me-O Cats Commercial</td>\n",
       "      <td>Nobrand</td>\n",
       "      <td>2017-04-21 06:47:32+00:00</td>\n",
       "      <td>cute|\"cats\"|\"thai\"|\"eggs\"</td>\n",
       "      <td>98966</td>\n",
       "      <td>2486</td>\n",
       "      <td>184</td>\n",
       "      <td>532</td>\n",
       "      <td>Kittens come out of the eggs in a Thai commerc...</td>\n",
       "      <td>People &amp; Blogs</td>\n",
       "      <td>US</td>\n",
       "      <td>207</td>\n",
       "      <td>6</td>\n",
       "      <td>21</td>\n",
       "      <td>Friday</td>\n",
       "      <td>April</td>\n",
       "      <td>2017</td>\n",
       "    </tr>\n",
       "  </tbody>\n",
       "</table>\n",
       "</div>"
      ],
      "text/plain": [
       "      video_id trending_date                               title  \\\n",
       "0  2kyS6SvSYSE    2017-11-14  WE WANT TO TALK ABOUT OUR MARRIAGE   \n",
       "1  0mlNzVSJrT0    2017-11-14                Me-O Cats Commercial   \n",
       "\n",
       "  channel_title              publish_time                       tags   views  \\\n",
       "0  CaseyNeistat 2017-11-13 17:13:01+00:00            SHANtell martin  748374   \n",
       "1       Nobrand 2017-04-21 06:47:32+00:00  cute|\"cats\"|\"thai\"|\"eggs\"   98966   \n",
       "\n",
       "   likes  dislikes  comment_count  \\\n",
       "0  57527      2966          15954   \n",
       "1   2486       184            532   \n",
       "\n",
       "                                         description        category country  \\\n",
       "0  SHANTELL'S CHANNEL - https://www.youtube.com/s...  People & Blogs      US   \n",
       "1  Kittens come out of the eggs in a Thai commerc...  People & Blogs      US   \n",
       "\n",
       "   trending_delta  hour  day    week     month  year  \n",
       "0               1    17   13  Monday  November  2017  \n",
       "1             207     6   21  Friday     April  2017  "
      ]
     },
     "execution_count": 9,
     "metadata": {},
     "output_type": "execute_result"
    }
   ],
   "source": [
    "# another thing we can do is extract the datetime from publish_time\n",
    "df['hour'] = df['publish_time'].dt.hour\n",
    "df['day'] = df['publish_time'].dt.day\n",
    "df['week'] = df['publish_time'].dt.day_name()\n",
    "df['month'] = df['publish_time'].dt.month_name()\n",
    "df['year'] = df['publish_time'].dt.year\n",
    "df.head(2)"
   ]
  },
  {
   "cell_type": "code",
   "execution_count": 10,
   "id": "085deb34",
   "metadata": {},
   "outputs": [],
   "source": [
    "# it looks like we have barely any data for July - October\n",
    "# Since we have almost no data for this, it's better to fully exclude these rows\n",
    "# as we don't want to create false interpretations of it\n",
    "df['month'].value_counts()\n",
    "\n",
    "df = df[~df['publish_time'].dt.month.isin(range(7, 11))]"
   ]
  },
  {
   "cell_type": "code",
   "execution_count": 11,
   "id": "31226cc0",
   "metadata": {},
   "outputs": [
    {
     "data": {
      "text/html": [
       "<div>\n",
       "<style scoped>\n",
       "    .dataframe tbody tr th:only-of-type {\n",
       "        vertical-align: middle;\n",
       "    }\n",
       "\n",
       "    .dataframe tbody tr th {\n",
       "        vertical-align: top;\n",
       "    }\n",
       "\n",
       "    .dataframe thead th {\n",
       "        text-align: right;\n",
       "    }\n",
       "</style>\n",
       "<table border=\"1\" class=\"dataframe\">\n",
       "  <thead>\n",
       "    <tr style=\"text-align: right;\">\n",
       "      <th></th>\n",
       "      <th>video_id</th>\n",
       "      <th>trending_date</th>\n",
       "      <th>title</th>\n",
       "      <th>channel_title</th>\n",
       "      <th>publish_time</th>\n",
       "      <th>tags</th>\n",
       "      <th>views</th>\n",
       "      <th>likes</th>\n",
       "      <th>dislikes</th>\n",
       "      <th>comment_count</th>\n",
       "      <th>description</th>\n",
       "      <th>category</th>\n",
       "      <th>country</th>\n",
       "      <th>trending_delta</th>\n",
       "      <th>hour</th>\n",
       "      <th>day</th>\n",
       "      <th>week</th>\n",
       "      <th>month</th>\n",
       "      <th>year</th>\n",
       "    </tr>\n",
       "  </thead>\n",
       "  <tbody>\n",
       "    <tr>\n",
       "      <th>315891</th>\n",
       "      <td>UHIzVGIwH4g</td>\n",
       "      <td>2018-06-14</td>\n",
       "      <td>Деревня, которая не вымрет</td>\n",
       "      <td>varlamov</td>\n",
       "      <td>2018-06-13 14:18:05+00:00</td>\n",
       "      <td>Голландия|\"Нидерланды\"|\"Амстердам\"|\"каналы Амс...</td>\n",
       "      <td>62681</td>\n",
       "      <td>4196</td>\n",
       "      <td>51</td>\n",
       "      <td>759</td>\n",
       "      <td>Сказочная Голландия! Пряничные домики, узкие у...</td>\n",
       "      <td>Travel &amp; Events</td>\n",
       "      <td>RU</td>\n",
       "      <td>1</td>\n",
       "      <td>14</td>\n",
       "      <td>13</td>\n",
       "      <td>Wednesday</td>\n",
       "      <td>June</td>\n",
       "      <td>2018</td>\n",
       "    </tr>\n",
       "    <tr>\n",
       "      <th>315892</th>\n",
       "      <td>9c-eJf_BcMw</td>\n",
       "      <td>2018-01-02</td>\n",
       "      <td>Снежная королева 3. Огонь и лед</td>\n",
       "      <td>Три богатыря</td>\n",
       "      <td>2018-01-01 09:00:13+00:00</td>\n",
       "      <td>Снежная королева|\"Снежная королева 3\"|\"Снежная...</td>\n",
       "      <td>100049</td>\n",
       "      <td>1732</td>\n",
       "      <td>138</td>\n",
       "      <td>196</td>\n",
       "      <td>Редкий дар ввязываться во всевозможные неприят...</td>\n",
       "      <td>Movies</td>\n",
       "      <td>RU</td>\n",
       "      <td>1</td>\n",
       "      <td>9</td>\n",
       "      <td>1</td>\n",
       "      <td>Monday</td>\n",
       "      <td>January</td>\n",
       "      <td>2018</td>\n",
       "    </tr>\n",
       "  </tbody>\n",
       "</table>\n",
       "</div>"
      ],
      "text/plain": [
       "           video_id trending_date                            title  \\\n",
       "315891  UHIzVGIwH4g    2018-06-14       Деревня, которая не вымрет   \n",
       "315892  9c-eJf_BcMw    2018-01-02  Снежная королева 3. Огонь и лед   \n",
       "\n",
       "       channel_title              publish_time  \\\n",
       "315891      varlamov 2018-06-13 14:18:05+00:00   \n",
       "315892  Три богатыря 2018-01-01 09:00:13+00:00   \n",
       "\n",
       "                                                     tags   views  likes  \\\n",
       "315891  Голландия|\"Нидерланды\"|\"Амстердам\"|\"каналы Амс...   62681   4196   \n",
       "315892  Снежная королева|\"Снежная королева 3\"|\"Снежная...  100049   1732   \n",
       "\n",
       "        dislikes  comment_count  \\\n",
       "315891        51            759   \n",
       "315892       138            196   \n",
       "\n",
       "                                              description         category  \\\n",
       "315891  Сказочная Голландия! Пряничные домики, узкие у...  Travel & Events   \n",
       "315892  Редкий дар ввязываться во всевозможные неприят...           Movies   \n",
       "\n",
       "       country  trending_delta  hour  day       week    month  year  \n",
       "315891      RU               1    14   13  Wednesday     June  2018  \n",
       "315892      RU               1     9    1     Monday  January  2018  "
      ]
     },
     "execution_count": 11,
     "metadata": {},
     "output_type": "execute_result"
    }
   ],
   "source": [
    "# now that we've cleaned up the dataframe, we should reset the index\n",
    "df = df.reset_index().drop('index', axis=1)\n",
    "df.tail(2)"
   ]
  },
  {
   "cell_type": "markdown",
   "id": "4be27af9",
   "metadata": {},
   "source": [
    "# Analysis"
   ]
  },
  {
   "cell_type": "code",
   "execution_count": null,
   "id": "3a3512a0",
   "metadata": {},
   "outputs": [],
   "source": [
    "# lets also mutate columns for better analysis\n",
    "\n",
    "df['like_pct'] = 100 * round(df['likes'] / (df['likes'] + df['dislikes']), 2) # ratio of likes to dislikes\n",
    "df['len_title'] = df['title'].str.findall(r'[.]*').str.len() # count chars in title\n",
    "df['len_desc'] = df['description'].str.findall(r'[.]*').str.len() # count chars in desc\n",
    "df['pct_cap'] = 100 * round(df['title'].str.findall(r'[A-Z]').str.len() /\n",
    "                df['title'].str.findall(r'[A-Za-z]').str.len(), 2) # ratio of cap letters in title\n",
    "df['qty_tags'] = df['tags'].str.split('|').str.len() # count number of tags\n",
    "\n",
    "df.head(2)"
   ]
  },
  {
   "cell_type": "markdown",
   "id": "d96b680d",
   "metadata": {},
   "source": [
    "## What is the main ingredient for a successful trending video?"
   ]
  },
  {
   "cell_type": "code",
   "execution_count": null,
   "id": "afdedd9a",
   "metadata": {},
   "outputs": [],
   "source": [
    "# lets create a correlation matrix with the base data and see what we get\n",
    "sns.set(rc = {'figure.figsize':(15, 7)})\n",
    "sns.heatmap(df.corr(), annot=True)\n",
    "plt.show()"
   ]
  },
  {
   "cell_type": "code",
   "execution_count": null,
   "id": "1b93c871",
   "metadata": {
    "scrolled": false
   },
   "outputs": [],
   "source": [
    "# as expected, we see a strong positive correlations between views and likes/dislikes\n",
    "\n",
    "sns.scatterplot(x='views', y='likes', data=df, color = 'r')\n",
    "plt.ylabel('Likes', fontsize = 15)\n",
    "sns.scatterplot(x='views', y='dislikes', data=df, color = 'b', ax = plt.twinx())\n",
    "plt.title('Correlation of interactions in trending videos', fontsize = 20)\n",
    "plt.xlabel('Number of Views', fontsize = 15)\n",
    "plt.ylabel('Dislikes', fontsize = 15)"
   ]
  },
  {
   "cell_type": "code",
   "execution_count": null,
   "id": "ce5a10ef",
   "metadata": {},
   "outputs": [],
   "source": [
    "# there's also an obvious trend between the amount of likes/dislikes and the interactions (comments) people have\n",
    "\n",
    "sns.scatterplot(x='comment_count', y='likes', data=df, color = 'r')\n",
    "plt.ylabel('Likes', fontsize = 15)\n",
    "sns.scatterplot(x='comment_count', y='dislikes', data=df, color = 'b', ax = plt.twinx())\n",
    "plt.title('Correlation of interactions in trending videos', fontsize = 20)\n",
    "plt.xlabel('Number of Comments', fontsize = 15)\n",
    "plt.ylabel('Dislikes', fontsize = 15)"
   ]
  },
  {
   "cell_type": "code",
   "execution_count": null,
   "id": "8c15040f",
   "metadata": {
    "scrolled": false
   },
   "outputs": [],
   "source": [
    "# there's also a correlation between the description length and qty. of tags\n",
    "# which make sense, as creators who put in the time to write a lengthy description tend\n",
    "# to also put in a good amount of tags to bring it viewers\n",
    "sns.jointplot(x='len_desc', y='qty_tags', data=df, hue='country', palette='Set2')"
   ]
  },
  {
   "cell_type": "code",
   "execution_count": null,
   "id": "51869056",
   "metadata": {},
   "outputs": [],
   "source": [
    "sns.kdeplot(x='len_desc', y='qty_tags', data=df, palette='Set2')\n",
    "plt.xlim(0, 4000)\n",
    "plt.ylim(0, 80)\n",
    "plt.title('Correlation between description length and tag quantity', fontsize = 20)\n",
    "plt.xlabel('Qty of Tags', fontsize = 15)\n",
    "plt.ylabel('Density', fontsize = 15)"
   ]
  },
  {
   "cell_type": "markdown",
   "id": "6a57b4d3",
   "metadata": {},
   "source": [
    "## Let's group by category and perform some aggregations and analysis"
   ]
  },
  {
   "cell_type": "code",
   "execution_count": null,
   "id": "ffc59ca0",
   "metadata": {},
   "outputs": [],
   "source": [
    "# we can group by categories and plot viewcount by its median\n",
    "# as there are many outliers, the median tends to be a better metric than the mean\n",
    "\n",
    "df2 = df.groupby('category').median().reset_index()\n",
    "df2 = df2.sort_values('views', ascending=False)\n",
    "sns.barplot(x='views', y='category', data = df2, palette = 'Set2')\n",
    "plt.title('Viewcount by Category', fontsize = 20)\n",
    "plt.xlabel('Views', fontsize = 15)\n",
    "plt.ylabel('Category', fontsize = 15)"
   ]
  },
  {
   "cell_type": "code",
   "execution_count": null,
   "id": "e1b52c47",
   "metadata": {},
   "outputs": [],
   "source": [
    "# we can also see how title length differ between categories\n",
    "\n",
    "df3 = df.groupby('category').agg({'len_title': 'count'}).reset_index(\n",
    "            ).sort_values('len_title', ascending=False)\n",
    "\n",
    "sns.barplot(x = 'len_title', y = 'category', data = df3)"
   ]
  },
  {
   "cell_type": "code",
   "execution_count": null,
   "id": "5714a8e9",
   "metadata": {},
   "outputs": [],
   "source": [
    "# does this change throughout the months?\n",
    "\n",
    "sns.lineplot(x = 'month', y=np.log(df['views']), hue = 'category', data = df)"
   ]
  },
  {
   "cell_type": "markdown",
   "id": "438ae7fa",
   "metadata": {},
   "source": [
    "## Analyzing video metrics"
   ]
  },
  {
   "cell_type": "code",
   "execution_count": null,
   "id": "5037fc54",
   "metadata": {},
   "outputs": [],
   "source": [
    "# from here, we can see that the average video title length is ~40-60 characters long\n",
    "# with this information, we can make predictions on the attentive-ness of viewers\n",
    "\n",
    "sns.histplot(x=df['len_title'], data=df, kde=True, bins=20)\n",
    "plt.title('Title Length of Trending Videos', fontsize = 20)\n",
    "plt.xlabel('Length of Title (characters)', fontsize = 15)\n",
    "plt.ylabel('Count', fontsize = 15)"
   ]
  },
  {
   "cell_type": "code",
   "execution_count": null,
   "id": "456e8f1d",
   "metadata": {},
   "outputs": [],
   "source": [
    "# however, we can see a more detailed view when we split the length by category\n",
    "# it looks like the deviation sports and travel have the highest spread\n",
    "# we can confirm that too by looking at the standard deviation values\n",
    "\n",
    "sns.boxplot(x = 'len_title', y = 'category', data = df)\n",
    "plt.title('Title Length of Trending Videos', fontsize = 20)\n",
    "plt.xlabel('Length of Title (characters)', fontsize = 15)\n",
    "plt.ylabel('Category', fontsize = 15)\n",
    "# print(df.groupby('category').std()[['len_title']])"
   ]
  },
  {
   "cell_type": "code",
   "execution_count": null,
   "id": "0e3a1425",
   "metadata": {},
   "outputs": [],
   "source": [
    "# we can now analyze the tags\n",
    "# first, lets make a copy\n",
    "\n",
    "df_tags = df.copy()\n",
    "df_tags['tags'] = df_tags['tags'].apply(lambda x: x.split('|'))\n",
    "df_tags.head(3)"
   ]
  },
  {
   "cell_type": "code",
   "execution_count": null,
   "id": "9796ab74",
   "metadata": {},
   "outputs": [],
   "source": [
    "idx = 0\n",
    "lst = []\n",
    "\n",
    "for tag in df_tags['tags']:\n",
    "    lst.extend(map(lambda x: [idx, x], tag))\n",
    "    idx += 1\n",
    "    \n",
    "tags = pd.DataFrame(lst, columns = ['index', 'tags'])\n",
    "tags['tags'] = tags['tags'].str.strip('\"\"').str.lower()\n",
    "tags.head(3)"
   ]
  },
  {
   "cell_type": "code",
   "execution_count": null,
   "id": "e9adce1a",
   "metadata": {},
   "outputs": [],
   "source": [
    "df_tag = df_tags.drop('tags', axis = 1).merge(right = tags, how = 'right', \n",
    "                                               left_index = True, right_on = 'index')"
   ]
  },
  {
   "cell_type": "code",
   "execution_count": null,
   "id": "76a3fe47",
   "metadata": {},
   "outputs": [],
   "source": [
    "df_tag['tags'].value_counts().head(15)"
   ]
  },
  {
   "cell_type": "code",
   "execution_count": null,
   "id": "80b0e18d",
   "metadata": {},
   "outputs": [],
   "source": [
    "df_tag['tags'].value_counts().head(15)\n",
    "\n",
    "top10_tags = ['funny', 'comedy', 'news', 'music', 'video', \n",
    "              'trailer', 'pop', 'rap', 'humor', 'tv']\n",
    "\n",
    "df_tag = df_tag[df_tag['tags'].isin(top10_tags)]"
   ]
  },
  {
   "cell_type": "markdown",
   "id": "80cf9542",
   "metadata": {},
   "source": [
    "## Energy usage"
   ]
  },
  {
   "cell_type": "code",
   "execution_count": null,
   "id": "194d0fc3",
   "metadata": {},
   "outputs": [],
   "source": [
    "# as we can see, there's a prime correlation between viewership and content publish time.\n",
    "# Since we'll be analyzing energy usage, I'll be taking advantage of this correlation\n",
    "# by using publish time to pinpoint peak hours.\n",
    "\n",
    "data = df.groupby(['country', 'hour']).agg({'views':'count'}).reset_index()\n",
    "sns.lineplot(data=data, x='hour', y='views', hue='country', palette='Set1',\n",
    "            hue_order=countries).set(xlim=(0, 24))\n",
    "plt.show()\n",
    "\n",
    "sns.kdeplot(data=df, x='hour', hue='country', palette='Set1').set(xlim=(0, 24))"
   ]
  },
  {
   "cell_type": "code",
   "execution_count": null,
   "id": "ff1ceda4",
   "metadata": {},
   "outputs": [],
   "source": [
    "# based on the density plot, we can see peak hours throughout the week\n",
    "# It feels fairly consistent throughout the mornings, with one exception.\n",
    "# On Fridays, there seems to be a a massive peak right before 5AM.\n",
    "# Additionally, the usage density triples from the morning to ~4PM.\n",
    "\n",
    "\n",
    "sns.kdeplot(data = df, x = 'hour', hue = 'week', palette = 'Set1',\n",
    "            hue_order = ['Monday', 'Tuesday', 'Wednesday', 'Thursday', 'Friday', 'Saturday', 'Sunday'])\n",
    "plt.xlim(0, 24)\n",
    "plt.title('Energy Usage by Week', fontsize = 24)\n",
    "plt.xlabel('Hour of Day', fontsize = 15)\n",
    "plt.ylabel('Density', fontsize = 15)"
   ]
  },
  {
   "cell_type": "code",
   "execution_count": null,
   "id": "189cd71d",
   "metadata": {},
   "outputs": [],
   "source": [
    "# however, we'd be foolish to think that all countries follow this trend.\n",
    "# if we group by countries, we can see that the peak hours vary from one country to another\n",
    "\n",
    "sns.violinplot(data=df, x='country', y='hour', palette='Set2').set(ylim=(0, 24))\n",
    "plt.title('Energy Usage by country', fontsize = 24)\n",
    "plt.xlabel('Country', fontsize = 15)\n",
    "plt.ylabel('Hour of Day', fontsize = 15)\n",
    "plt.show()\n",
    "\n",
    "sns.kdeplot(data=df, x='hour', hue='country', palette='Set1').set(xlim=(0, 24))\n",
    "plt.title('Energy Usage by country', fontsize = 24)\n",
    "plt.xlabel('Hour of Day', fontsize = 15)\n",
    "plt.ylabel('Density', fontsize = 15)\n",
    "\n",
    "\n",
    "# usage in france is much higher than the rest of the world ~4PM\n",
    "# the peak usage in Japan/Korea is ~9AM, whos countries are known for their nightlife\n",
    "# Mexico peak hours start at 7PM and continues to the early AM\n",
    "# usage in India is fairly consistent throughout the day, but takes a sharp decline ~8PM"
   ]
  },
  {
   "cell_type": "code",
   "execution_count": null,
   "id": "96431443",
   "metadata": {
    "scrolled": false
   },
   "outputs": [],
   "source": [
    "# another metric we can pay attention to would be how the trend continues by month\n",
    "# unfortunately, the data we have contain months 7-10, which would be extremely valuable!\n",
    "# it seems that during the summer months, the trend starts to die down.\n",
    "# this is probably due to graduation and summer vacations\n",
    "# If there were no missing data, I would expect that the trend would be a bit lower throughout the\n",
    "# summer, and start picking back up in September\n",
    "\n",
    "sns.kdeplot(data = df, x = 'hour', hue = 'month', palette = 'Set1',\n",
    "           hue_order = ['January', 'February', 'March', 'April', \n",
    "                        'May', 'June', 'November', 'December'])\n",
    "plt.xlim(0, 24)\n",
    "plt.title('Energy Usage by Month', fontsize = 24)\n",
    "plt.xlabel('Hour Published', fontsize = 15)\n",
    "plt.ylabel('Density', fontsize = 15)\n",
    "plt.show()\n",
    "\n",
    "sns.histplot(data = df, x = df['publish_time'].dt.month, palette='Set1', bins = 7)\n",
    "plt.xlim(1, 12)\n",
    "plt.title('Energy Usage by Month', fontsize = 24)\n",
    "plt.xlabel('Month', fontsize = 15)\n",
    "plt.ylabel('Count', fontsize = 15)"
   ]
  },
  {
   "cell_type": "code",
   "execution_count": null,
   "id": "1116113b",
   "metadata": {},
   "outputs": [],
   "source": [
    "# we can view how usage grows throughout the years\n",
    "# however, this may not necessarily be the best metric as we have incomplete data\n",
    "# but this would allow us to understand how the company grows throughout the years\n",
    "\n",
    "# since there isn't a lot of data before 2017, I've decided to exclude those years\n",
    "\n",
    "sns.kdeplot(data = df[df['year'].isin([2017, 2018])], \n",
    "            x = 'hour', hue = 'year', palette = 'Set1')\n",
    "plt.xlim(0, 24)\n",
    "plt.title('Energy Usage by Year', fontsize = 24)\n",
    "plt.xlabel('Hour of Day', fontsize = 15)\n",
    "plt.ylabel('Density', fontsize = 15)"
   ]
  },
  {
   "cell_type": "code",
   "execution_count": null,
   "id": "cecca88c",
   "metadata": {
    "scrolled": false
   },
   "outputs": [],
   "source": [
    "# another metric we can measure is the average length a video will take to trend, by category\n",
    "# here we can see the music / education category take the prize, with ~15 days per video prior to trending\n",
    "# this metric can tell us which categories people pay the most attention to\n",
    "# and allow the company to devote resources towards certain categories\n",
    "\n",
    "df4 = df.groupby('category').mean().sort_values('trending_delta', ascending=False).reset_index()\n",
    "sns.barplot(data=df4, y='category', x='trending_delta')\n",
    "plt.title('Average length before going viral', fontsize = 24)\n",
    "plt.xlabel('Days', fontsize = 15)\n",
    "plt.ylabel('Category', fontsize = 15)"
   ]
  },
  {
   "cell_type": "code",
   "execution_count": null,
   "id": "e01093de",
   "metadata": {},
   "outputs": [],
   "source": []
  },
  {
   "cell_type": "code",
   "execution_count": null,
   "id": "12282271",
   "metadata": {},
   "outputs": [],
   "source": []
  },
  {
   "cell_type": "code",
   "execution_count": null,
   "id": "96f5ad33",
   "metadata": {},
   "outputs": [],
   "source": []
  },
  {
   "cell_type": "code",
   "execution_count": null,
   "id": "9d82b2a5",
   "metadata": {},
   "outputs": [],
   "source": []
  },
  {
   "cell_type": "code",
   "execution_count": null,
   "id": "49094488",
   "metadata": {},
   "outputs": [],
   "source": []
  }
 ],
 "metadata": {
  "kernelspec": {
   "display_name": "Python 3 (ipykernel)",
   "language": "python",
   "name": "python3"
  },
  "language_info": {
   "codemirror_mode": {
    "name": "ipython",
    "version": 3
   },
   "file_extension": ".py",
   "mimetype": "text/x-python",
   "name": "python",
   "nbconvert_exporter": "python",
   "pygments_lexer": "ipython3",
   "version": "3.9.12"
  }
 },
 "nbformat": 4,
 "nbformat_minor": 5
}
